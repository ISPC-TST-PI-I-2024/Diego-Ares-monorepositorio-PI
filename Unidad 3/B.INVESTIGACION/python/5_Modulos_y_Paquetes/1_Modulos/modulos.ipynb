{
  "cells": [
    {
      "cell_type": "markdown",
      "metadata": {},
      "source": [
        "# Módulos en Python\n",
        "\n",
        "En este notebook, aprenderás cómo crear y utilizar módulos en Python.\n"
      ]
    },
    {
      "cell_type": "markdown",
      "metadata": {},
      "source": [
        "## Creación de un Módulo\n",
        "\n",
        "Para crear un módulo, simplemente guarda el código en un archivo con extensión `.py`.\n"
      ]
    },
    {
      "cell_type": "code",
      "metadata": {},
      "outputs": [],
      "source": [
        "# archivo: mi_modulo.py\n",
        "\n",
        "def saludar(nombre):\n",
        "    return f\"Hola, {nombre}\"\n",
        "\n",
        "def despedir(nombre):\n",
        "    return f\"Adiós, {nombre}\"\n"
      ]
    },
    {
      "cell_type": "markdown",
      "metadata": {},
      "source": [
        "## Importación de Módulos\n",
        "\n",
        "Puedes importar un módulo en otro archivo utilizando la palabra clave `import`.\n"
      ]
    },
    {
      "cell_type": "code",
      "metadata": {},
      "outputs": [],
      "source": [
        "# archivo: uso_modulo.py\n",
        "\n",
        "import mi_modulo\n",
        "\n",
        "print(mi_modulo.saludar(\"Alice\"))\n",
        "print(mi_modulo.despedir(\"Bob\"))\n"
      ]
    },
    {
      "cell_type": "code",
      "metadata": {},
      "outputs": [],
      "source": [
        "# También puedes importar funciones o variables específicas de un módulo.\n",
        "\n",
        "from mi_modulo import saludar, despedir\n",
        "\n",
        "print(saludar(\"Alice\"))\n",
        "print(despedir(\"Bob\"))\n"
      ]
    },
    {
      "cell_type": "markdown",
      "metadata": {},
      "source": [
        "## Uso de la Función `dir()`\n",
        "\n",
        "La función `dir()` devuelve una lista de los nombres definidos en un módulo.\n"
      ]
    },
    {
      "cell_type": "code",
      "metadata": {},
      "outputs": [],
      "source": ["import mi_modulo\n", "\n", "print(dir(mi_modulo))\n"]
    },
    {
      "cell_type": "markdown",
      "metadata": {},
      "source": [
        "## Módulos Incorporados\n",
        "\n",
        "Python viene con una biblioteca estándar de módulos incorporados que puedes usar.\n"
      ]
    },
    {
      "cell_type": "code",
      "metadata": {},
      "outputs": [],
      "source": ["import math\n", "\n", "print(math.sqrt(16))\n"]
    },
    {
      "cell_type": "markdown",
      "metadata": {},
      "source": [
        "## Módulos de Terceros\n",
        "\n",
        "Puedes instalar módulos de terceros utilizando `pip` y luego importarlos en tu código.\n",
        "\n",
        "```sh\n",
        "pip install requests\n",
        "```\n"
      ]
    },
    {
      "cell_type": "code",
      "metadata": {},
      "outputs": [],
      "source": [
        "import requests\n",
        "\n",
        "respuesta = requests.get(\"https://api.github.com\")\n",
        "print(respuesta.status_code)\n"
      ]
    },
    {
      "cell_type": "markdown",
      "metadata": {},
      "source": ["## Ejercicios\n"]
    },
    {
      "cell_type": "markdown",
      "metadata": {},
      "source": [
        "### Ejercicio 1: Módulo de Matemáticas\n",
        "\n",
        "Crea un módulo llamado `matematica.py` que contenga funciones para sumar, restar, multiplicar y dividir dos números. Luego, escribe un programa que importe este módulo y utilice sus funciones.\n"
      ]
    },
    {
      "cell_type": "code",
      "metadata": {},
      "outputs": [],
      "source": ["# Inserta tu código aquí\n"]
    },
    {
      "cell_type": "markdown",
      "metadata": {},
      "source": [
        "### Ejercicio 2: Módulo de Cadena\n",
        "\n",
        "Crea un módulo llamado `cadena.py` que contenga funciones para convertir una cadena a mayúsculas, minúsculas y capitalizarla. Luego, escribe un programa que importe este módulo y utilice sus funciones.\n"
      ]
    },
    {
      "cell_type": "code",
      "metadata": {},
      "outputs": [],
      "source": ["# Inserta tu código aquí\n"]
    },
    {
      "cell_type": "markdown",
      "metadata": {},
      "source": [
        "### Ejercicio 3: Módulo Incorporado\n",
        "\n",
        "Investiga sobre un módulo incorporado en Python (por ejemplo, `datetime`, `random`, `os`) y escribe un programa que utilice sus funcionalidades.\n"
      ]
    },
    {
      "cell_type": "code",
      "metadata": {},
      "outputs": [],
      "source": ["# Inserta tu código aquí\n"]
    },
    {
      "cell_type": "markdown",
      "metadata": {},
      "source": [
        "### Ejercicio 4: Módulo de Terceros\n",
        "\n",
        "Instala un módulo de terceros (por ejemplo, `numpy`, `pandas`, `requests`) y escribe un programa que utilice sus funcionalidades.\n"
      ]
    },
    {
      "cell_type": "code",
      "metadata": {},
      "outputs": [],
      "source": ["# Inserta tu código aquí\n"]
    },
    {
      "cell_type": "markdown",
      "metadata": {},
      "source": [
        "## Soluciones\n",
        "\n",
        "### Solución al Ejercicio 1: Módulo de Matemáticas\n",
        "\n",
        "```python\n",
        "# archivo: matematica.py\n",
        "\n",
        "def sumar(a, b):\n",
        "    return a + b\n",
        "\n",
        "def restar(a, b):\n",
        "    return a - b\n",
        "\n",
        "def multiplicar(a, b):\n",
        "    return a * b\n",
        "\n",
        "def dividir(a, b):\n",
        "    if b != 0:\n",
        "        return a / b\n",
        "    else:\n",
        "        return \"División por cero no permitida\"\n",
        "```\n",
        "\n",
        "```python\n",
        "# archivo: uso_matematica.py\n",
        "\n",
        "import matematica\n",
        "\n",
        "print(matematica.sumar(3, 5))  # Debería imprimir: 8\n",
        "print(matematica.restar(10, 4))  # Debería imprimir: 6\n",
        "print(matematica.multiplicar(2, 7))  # Debería imprimir: 14\n",
        "print(matematica.dividir(20, 4))  # Debería imprimir: 5.0\n",
        "print(matematica.dividir(20, 0))  # Debería imprimir: División por cero no permitida\n",
        "```\n",
        "\n",
        "### Solución al Ejercicio 2: Módulo de Cadena\n",
        "\n",
        "```python\n",
        "# archivo: cadena.py\n",
        "\n",
        "def a_mayusculas(cadena):\n",
        "    return cadena.upper()\n",
        "\n",
        "def a_minusculas(cadena):\n",
        "    return cadena.lower()\n",
        "\n",
        "def capitalizar(cadena):\n",
        "    return cadena.capitalize()\n",
        "```\n",
        "\n",
        "```python\n",
        "# archivo: uso_cadena.py\n",
        "\n",
        "import cadena\n",
        "\n",
        "print(cadena.a_mayusculas(\"hola\"))  # Debería imprimir: HOLA\n",
        "print(cadena.a_minusculas(\"HOLA\"))  # Debería imprimir: hola\n",
        "print(cadena.capitalizar(\"hola\"))  # Debería imprimir: Hola\n",
        "```\n",
        "\n",
        "### Solución al Ejercicio 3: Módulo Incorporado\n",
        "\n",
        "```python\n",
        "# Ejemplo con el módulo random\n",
        "import random\n",
        "\n",
        "print(random.randint(1, 10))  # Debería imprimir un número aleatorio entre 1 y 10\n",
        "print(random.choice(['rojo', 'verde', 'azul']))  # Debería imprimir uno de los colores\n",
        "```\n",
        "\n",
        "### Solución al Ejercicio 4: Módulo de Terceros\n",
        "\n",
        "```python\n",
        "# Ejemplo con el módulo requests\n",
        "import requests\n",
        "\n",
        "respuesta = requests.get(\"https://api.github.com\")\n",
        "print(respuesta.status_code)  # Debería imprimir: 200\n",
        "print(respuesta.json())  # Debería imprimir la respuesta en formato JSON\n",
        "```\n",
        "\n",
        "¡Buen trabajo completando estos ejercicios sobre la creación y uso de módulos en Python!"
      ]
    }
  ],
  "metadata": {
    "kernelspec": {
      "display_name": "Python 3",
      "language": "python",
      "name": "python3"
    },
    "language_info": {
      "codemirror_mode": {
        "name": "ipython",
        "version": 3
      },
      "file_extension": ".py",
      "mimetype": "text/x-python",
      "name": "python",
      "nbconvert_exporter": "python",
      "pygments_lexer": "ipython3",
      "version": "3.8.5"
    }
  },
  "nbformat": 4,
  "nbformat_minor": 4
}