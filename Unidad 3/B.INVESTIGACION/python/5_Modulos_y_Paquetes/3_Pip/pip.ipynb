{
  "cells": [
    {
      "cell_type": "markdown",
      "metadata": {},
      "source": [
        "# Uso de Pip\n",
        "\n",
        "En este notebook, aprenderás cómo usar `pip` para instalar, actualizar y desinstalar paquetes en Python.\n"
      ]
    },
    {
      "cell_type": "markdown",
      "metadata": {},
      "source": [
        "## Instalación de Paquetes con Pip\n",
        "\n",
        "Para instalar un paquete, usa el comando `pip install`.\n",
        "\n",
        "```sh\n",
        "pip install nombre_paquete\n",
        "```\n",
        "\n",
        "Ejemplo:\n",
        "\n",
        "```sh\n",
        "pip install requests\n",
        "```\n"
      ]
    },
    {
      "cell_type": "code",
      "metadata": {},
      "outputs": [],
      "source": [
        "# Instalación de un paquete en una celda de código (Ejemplo solo para demostración, no se ejecutará aquí)\n",
        "!pip install requests\n"
      ]
    },
    {
      "cell_type": "markdown",
      "metadata": {},
      "source": [
        "## Actualización de Paquetes con Pip\n",
        "\n",
        "Para actualizar un paquete, usa el comando `pip install --upgrade`.\n",
        "\n",
        "```sh\n",
        "pip install --upgrade nombre_paquete\n",
        "```\n",
        "\n",
        "Ejemplo:\n",
        "\n",
        "```sh\n",
        "pip install --upgrade requests\n",
        "```\n"
      ]
    },
    {
      "cell_type": "code",
      "metadata": {},
      "outputs": [],
      "source": [
        "# Actualización de un paquete en una celda de código (Ejemplo solo para demostración, no se ejecutará aquí)\n",
        "!pip install --upgrade requests\n"
      ]
    },
    {
      "cell_type": "markdown",
      "metadata": {},
      "source": [
        "## Desinstalación de Paquetes con Pip\n",
        "\n",
        "Para desinstalar un paquete, usa el comando `pip uninstall`.\n",
        "\n",
        "```sh\n",
        "pip uninstall nombre_paquete\n",
        "```\n",
        "\n",
        "Ejemplo:\n",
        "\n",
        "```sh\n",
        "pip uninstall requests\n",
        "```\n"
      ]
    },
    {
      "cell_type": "code",
      "metadata": {},
      "outputs": [],
      "source": [
        "# Desinstalación de un paquete en una celda de código (Ejemplo solo para demostración, no se ejecutará aquí)\n",
        "!pip uninstall requests\n"
      ]
    },
    {
      "cell_type": "markdown",
      "metadata": {},
      "source": [
        "## Listado de Paquetes Instalados\n",
        "\n",
        "Para listar todos los paquetes instalados, usa el comando `pip list`.\n",
        "\n",
        "```sh\n",
        "pip list\n",
        "```\n"
      ]
    },
    {
      "cell_type": "code",
      "metadata": {},
      "outputs": [],
      "source": [
        "# Listado de paquetes instalados en una celda de código (Ejemplo solo para demostración, no se ejecutará aquí)\n",
        "!pip list\n"
      ]
    },
    {
      "cell_type": "markdown",
      "metadata": {},
      "source": [
        "## Uso de `requirements.txt`\n",
        "\n",
        "El archivo `requirements.txt` se utiliza para especificar las dependencias de tu proyecto. Puedes crear este archivo y listar todos los paquetes necesarios, luego instalarlos usando `pip`.\n",
        "\n",
        "```plaintext\n",
        "# requirements.txt\n",
        "requests==2.25.1\n",
        "numpy==1.19.5\n",
        "```\n",
        "\n",
        "Para instalar todos los paquetes listados en `requirements.txt`, usa el comando:\n",
        "\n",
        "```sh\n",
        "pip install -r requirements.txt\n",
        "```\n"
      ]
    },
    {
      "cell_type": "code",
      "metadata": {},
      "outputs": [],
      "source": [
        "# Instalación de paquetes desde un archivo requirements.txt en una celda de código (Ejemplo solo para demostración, no se ejecutará aquí)\n",
        "!pip install -r requirements.txt\n"
      ]
    },
    {
      "cell_type": "markdown",
      "metadata": {},
      "source": ["## Ejercicios\n"]
    },
    {
      "cell_type": "markdown",
      "metadata": {},
      "source": [
        "### Ejercicio 1: Instalación de Paquete\n",
        "\n",
        "Instala el paquete `pandas` utilizando `pip` y verifica su instalación listando los paquetes instalados.\n"
      ]
    },
    {
      "cell_type": "code",
      "metadata": {},
      "outputs": [],
      "source": [
        "# Inserta tu código aquí\n",
        "!pip install pandas\n",
        "!pip list\n"
      ]
    },
    {
      "cell_type": "markdown",
      "metadata": {},
      "source": [
        "### Ejercicio 2: Actualización de Paquete\n",
        "\n",
        "Actualiza el paquete `numpy` a la última versión utilizando `pip`.\n"
      ]
    },
    {
      "cell_type": "code",
      "metadata": {},
      "outputs": [],
      "source": ["# Inserta tu código aquí\n", "!pip install --upgrade numpy\n"]
    },
    {
      "cell_type": "markdown",
      "metadata": {},
      "source": [
        "### Ejercicio 3: Desinstalación de Paquete\n",
        "\n",
        "Desinstala el paquete `requests` utilizando `pip` y verifica que ya no está instalado.\n"
      ]
    },
    {
      "cell_type": "code",
      "metadata": {},
      "outputs": [],
      "source": [
        "# Inserta tu código aquí\n",
        "!pip uninstall requests\n",
        "!pip list\n"
      ]
    },
    {
      "cell_type": "markdown",
      "metadata": {},
      "source": [
        "### Ejercicio 4: Uso de `requirements.txt`\n",
        "\n",
        "Crea un archivo `requirements.txt` con al menos tres paquetes y sus versiones específicas, y utiliza `pip` para instalar todos los paquetes listados en el archivo.\n"
      ]
    },
    {
      "cell_type": "code",
      "metadata": {},
      "outputs": [],
      "source": [
        "# Ejemplo de un archivo requirements.txt\n",
        "with open('requirements.txt', 'w') as file:\n",
        "    file.write('requests==2.25.1\\nnumpy==1.19.5\\npandas==1.2.3')\n",
        "\n",
        "# Instalación de paquetes desde el archivo requirements.txt\n",
        "!pip install -r requirements.txt\n"
      ]
    },
    {
      "cell_type": "markdown",
      "metadata": {},
      "source": [
        "## Soluciones\n",
        "\n",
        "### Solución al Ejercicio 1: Instalación de Paquete\n",
        "\n",
        "```python\n",
        "!pip install pandas\n",
        "!pip list\n",
        "```\n",
        "\n",
        "### Solución al Ejercicio 2: Actualización de Paquete\n",
        "\n",
        "```python\n",
        "!pip install --upgrade numpy\n",
        "```\n",
        "\n",
        "### Solución al Ejercicio 3: Desinstalación de Paquete\n",
        "\n",
        "```python\n",
        "!pip uninstall requests\n",
        "!pip list\n",
        "```\n",
        "\n",
        "### Solución al Ejercicio 4: Uso de `requirements.txt`\n",
        "\n",
        "```python\n",
        "# Ejemplo de un archivo requirements.txt\n",
        "with open('requirements.txt', 'w') as file:\n",
        "    file.write('requests==2.25.1\\nnumpy==1.19.5\\npandas==1.2.3')\n",
        "\n",
        "# Instalación de paquetes desde el archivo requirements.txt\n",
        "!pip install -r requirements.txt\n",
        "```\n",
        "\n",
        "¡Buen trabajo completando estos ejercicios sobre el uso de `pip` en Python!"
      ]
    }
  ],
  "metadata": {
    "kernelspec": {
      "display_name": "Python 3",
      "language": "python",
      "name": "python3"
    },
    "language_info": {
      "codemirror_mode": {
        "name": "ipython",
        "version": 3
      },
      "file_extension": ".py",
      "mimetype": "text/x-python",
      "name": "python",
      "nbconvert_exporter": "python",
      "pygments_lexer": "ipython3",
      "version": "3.8.5"
    }
  },
  "nbformat": 4,
  "nbformat_minor": 4
}