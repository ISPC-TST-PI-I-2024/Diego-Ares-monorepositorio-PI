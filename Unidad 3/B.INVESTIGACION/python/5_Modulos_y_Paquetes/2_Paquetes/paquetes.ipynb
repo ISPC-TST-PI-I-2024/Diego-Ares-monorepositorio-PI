{
  "cells": [
    {
      "cell_type": "markdown",
      "metadata": {},
      "source": [
        "# Paquetes en Python\n",
        "\n",
        "En este notebook, aprenderás cómo crear y utilizar paquetes en Python.\n"
      ]
    },
    {
      "cell_type": "markdown",
      "metadata": {},
      "source": [
        "## Creación de un Paquete\n",
        "\n",
        "Para crear un paquete, organiza tus módulos en un directorio y agrega un archivo `__init__.py`.\n"
      ]
    },
    {
      "cell_type": "code",
      "metadata": {},
      "outputs": [],
      "source": [
        "# Estructura del paquete:\n",
        "# mi_paquete/\n",
        "#     __init__.py\n",
        "#     modulo1.py\n",
        "#     modulo2.py\n",
        "\n",
        "# archivo: mi_paquete/modulo1.py\n",
        "\n",
        "def funcion1():\n",
        "    return \"Función 1\"\n",
        "\n",
        "# archivo: mi_paquete/modulo2.py\n",
        "\n",
        "def funcion2():\n",
        "    return \"Función 2\"\n"
      ]
    },
    {
      "cell_type": "markdown",
      "metadata": {},
      "source": [
        "## Importación de Paquetes y Módulos\n",
        "\n",
        "Puedes importar módulos desde un paquete utilizando la sintaxis de punto.\n"
      ]
    },
    {
      "cell_type": "code",
      "metadata": {},
      "outputs": [],
      "source": [
        "# archivo: main.py\n",
        "\n",
        "import mi_paquete.modulo1\n",
        "import mi_paquete.modulo2\n",
        "\n",
        "print(mi_paquete.modulo1.funcion1())\n",
        "print(mi_paquete.modulo2.funcion2())\n"
      ]
    },
    {
      "cell_type": "code",
      "metadata": {},
      "outputs": [],
      "source": [
        "# También puedes importar funciones o variables específicas de un módulo dentro de un paquete.\n",
        "\n",
        "from mi_paquete.modulo1 import funcion1\n",
        "from mi_paquete.modulo2 import funcion2\n",
        "\n",
        "print(funcion1())\n",
        "print(funcion2())\n"
      ]
    },
    {
      "cell_type": "markdown",
      "metadata": {},
      "source": [
        "## Organización de Paquetes\n",
        "\n",
        "Puedes organizar tus paquetes en subpaquetes para una mejor modularización.\n"
      ]
    },
    {
      "cell_type": "code",
      "metadata": {},
      "outputs": [],
      "source": [
        "# Estructura del paquete:\n",
        "# mi_paquete/\n",
        "#     __init__.py\n",
        "#     subpaquete1/\n",
        "#         __init__.py\n",
        "#         modulo1.py\n",
        "#     subpaquete2/\n",
        "#         __init__.py\n",
        "#         modulo2.py\n",
        "\n",
        "# archivo: mi_paquete/subpaquete1/modulo1.py\n",
        "\n",
        "def funcion1():\n",
        "    return \"Función 1 del subpaquete 1\"\n",
        "\n",
        "# archivo: mi_paquete/subpaquete2/modulo2.py\n",
        "\n",
        "def funcion2():\n",
        "    return \"Función 2 del subpaquete 2\"\n"
      ]
    },
    {
      "cell_type": "markdown",
      "metadata": {},
      "source": [
        "## Uso del Archivo `__init__.py`\n",
        "\n",
        "El archivo `__init__.py` se ejecuta cuando se importa un paquete y puede ser utilizado para inicializar el paquete.\n"
      ]
    },
    {
      "cell_type": "code",
      "metadata": {},
      "outputs": [],
      "source": [
        "# archivo: mi_paquete/__init__.py\n",
        "\n",
        "from .modulo1 import funcion1\n",
        "from .modulo2 import funcion2\n"
      ]
    },
    {
      "cell_type": "markdown",
      "metadata": {},
      "source": [
        "## Paquetes de Terceros\n",
        "\n",
        "Puedes instalar paquetes de terceros utilizando `pip` y luego importarlos en tu código.\n",
        "\n",
        "```sh\n",
        "pip install numpy\n",
        "```\n"
      ]
    },
    {
      "cell_type": "code",
      "metadata": {},
      "outputs": [],
      "source": [
        "import numpy as np\n",
        "\n",
        "array = np.array([1, 2, 3])\n",
        "print(array)\n"
      ]
    },
    {
      "cell_type": "markdown",
      "metadata": {},
      "source": ["## Ejercicios\n"]
    },
    {
      "cell_type": "markdown",
      "metadata": {},
      "source": [
        "### Ejercicio 1: Paquete Calculadora\n",
        "\n",
        "Crea un paquete llamado `calculadora` con dos módulos: `aritmetica.py` (con funciones para sumar, restar, multiplicar y dividir) y `trigonometria.py` (con funciones para seno, coseno y tangente). Escribe un programa que utilice estos módulos.\n"
      ]
    },
    {
      "cell_type": "code",
      "metadata": {},
      "outputs": [],
      "source": ["# Inserta tu código aquí\n"]
    },
    {
      "cell_type": "markdown",
      "metadata": {},
      "source": [
        "### Ejercicio 2: Paquete Análisis de Datos\n",
        "\n",
        "Organiza un paquete llamado `analisis_datos` con subpaquetes `estadistica` (con funciones para media, mediana y moda) y `visualizacion` (con funciones para crear gráficos simples). Escribe un programa que utilice estos subpaquetes.\n"
      ]
    },
    {
      "cell_type": "code",
      "metadata": {},
      "outputs": [],
      "source": ["# Inserta tu código aquí\n"]
    },
    {
      "cell_type": "markdown",
      "metadata": {},
      "source": [
        "### Ejercicio 3: Paquete de Terceros\n",
        "\n",
        "Investiga sobre un paquete de terceros en Python (por ejemplo, `matplotlib`, `pandas`, `scikit-learn`) y escribe un programa que utilice sus funcionalidades.\n"
      ]
    },
    {
      "cell_type": "code",
      "metadata": {},
      "outputs": [],
      "source": ["# Inserta tu código aquí\n"]
    },
    {
      "cell_type": "markdown",
      "metadata": {},
      "source": [
        "### Ejercicio 4: Archivo `__init__.py`\n",
        "\n",
        "Crea un archivo `__init__.py` en un paquete de ejemplo y utiliza este archivo para inicializar algunas variables cuando el paquete se importe.\n"
      ]
    },
    {
      "cell_type": "code",
      "metadata": {},
      "outputs": [],
      "source": ["# Inserta tu código aquí\n"]
    },
    {
      "cell_type": "markdown",
      "metadata": {},
      "source": [
        "## Soluciones\n",
        "\n",
        "### Solución al Ejercicio 1: Paquete Calculadora\n",
        "\n",
        "```python\n",
        "# Estructura del paquete:\n",
        "# calculadora/\n",
        "#     __init__.py\n",
        "#     aritmetica.py\n",
        "#     trigonometria.py\n",
        "\n",
        "# archivo: calculadora/aritmetica.py\n",
        "\n",
        "def sumar(a, b):\n",
        "    return a + b\n",
        "\n",
        "def restar(a, b):\n",
        "    return a - b\n",
        "\n",
        "def multiplicar(a, b):\n",
        "    return a * b\n",
        "\n",
        "def dividir(a, b):\n",
        "    if b != 0:\n",
        "        return a / b\n",
        "    else:\n",
        "        return \"División por cero no permitida\"\n",
        "\n",
        "# archivo: calculadora/trigonometria.py\n",
        "\n",
        "import math\n",
        "\n",
        "def seno(x):\n",
        "    return math.sin(x)\n",
        "\n",
        "def coseno(x):\n",
        "    return math.cos(x)\n",
        "\n",
        "def tangente(x):\n",
        "    return math.tan(x)\n",
        "\n",
        "# archivo: uso_calculadora.py\n",
        "\n",
        "from calculadora.aritmetica import sumar, restar, multiplicar, dividir\n",
        "from calculadora.trigonometria import seno, coseno, tangente\n",
        "\n",
        "print(sumar(3, 5))  # Debería imprimir: 8\n",
        "print(restar(10, 4))  # Debería imprimir: 6\n",
        "print(multiplicar(2, 7))  # Debería imprimir: 14\n",
        "print(dividir(20, 4))  # Debería imprimir: 5.0\n",
        "print(dividir(20, 0))  # Debería imprimir: División por cero no permitida\n",
        "print(seno(math.pi/2))  # Debería imprimir: 1.0\n",
        "print(coseno(0))  # Debería imprimir: 1.0\n",
        "print(tangente(math.pi/4))  # Debería imprimir: 1.0\n",
        "```\n",
        "\n",
        "### Solución al Ejercicio 2: Paquete Análisis de Datos\n",
        "\n",
        "```python\n",
        "# Estructura del paquete:\n",
        "# analisis_datos/\n",
        "#     __init__.py\n",
        "#     estadistica/\n",
        "#         __init__.py\n",
        "#         medidas.py\n",
        "#     visualizacion/\n",
        "#         __init__.py\n",
        "#         graficos.py\n",
        "\n",
        "# archivo: analisis_datos/estadistica/medidas.py\n",
        "\n",
        "def media(lista):\n",
        "    return sum(lista) / len(lista)\n",
        "\n",
        "def mediana(lista):\n",
        "    lista_ordenada = sorted(lista)\n",
        "    n = len(lista)\n",
        "    if n % 2 == 0:\n",
        "        return (lista_ordenada[n//2 - 1] + lista_ordenada[n//2]) / 2\n",
        "    else:\n",
        "        return lista_ordenada[n//2]\n",
        "\n",
        "def moda(lista):\n",
        "    from collections import Counter\n",
        "    contador = Counter(lista)\n",
        "    max_freq = max(contador.values())\n",
        "    modas = [k for k, v in contador.items() if v == max_freq]\n",
        "    return modas\n",
        "\n",
        "# archivo: analisis_datos/visualizacion/graficos.py\n",
        "\n",
        "import matplotlib.pyplot as plt\n",
        "\n",
        "def crear_grafico_barras(etiquetas, valores):\n",
        "    plt.bar(etiquetas, valores)\n",
        "    plt.show()\n",
        "\n",
        "# archivo: uso_analisis_datos.py\n",
        "\n",
        "from analisis_datos.estadistica.medidas import media, mediana, moda\n",
        "from analisis_datos.visualizacion.graficos import crear_grafico_barras\n",
        "\n",
        "datos = [1, 2, 2, 3, 4, 4, 4, 5, 5, 6]\n",
        "\n",
        "print(media(datos))  # Debería imprimir: 3.6\n",
        "print(mediana(datos))  # Debería imprimir: 4.0\n",
        "print(moda(datos))  # Debería imprimir: [4]\n",
        "\n",
        "crear_grafico_barras(['A', 'B', 'C'], [10, 20, 15])\n",
        "```\n",
        "\n",
        "### Solución al Ejercicio 3: Paquete de Terceros\n",
        "\n",
        "```python\n",
        "# Ejemplo con el paquete pandas\n",
        "import pandas as pd\n",
        "\n",
        "data = {\n",
        "    'Nombre': ['Alice', 'Bob', 'Charlie'],\n",
        "    'Edad': [24, 30, 22]\n",
        "}\n",
        "\n",
        "df = pd.DataFrame(data)\n",
        "print(df)\n",
        "```\n",
        "\n",
        "### Solución al Ejercicio 4: Archivo `__init__.py`\n",
        "\n",
        "```python\n",
        "# Estructura del paquete:\n",
        "# paquete_ejemplo/\n",
        "#     __init__.py\n",
        "#     modulo.py\n",
        "\n",
        "# archivo: paquete_ejemplo/modulo.py\n",
        "\n",
        "def saludar():\n",
        "    return \"Hola desde el módulo\"\n",
        "\n",
        "# archivo: paquete_ejemplo/__init__.py\n",
        "\n",
        "from .modulo import saludar\n",
        "\n",
        "variable_inicializada = \"Variable inicializada en __init__.py\"\n",
        "```\n",
        "\n",
        "```python\n",
        "# archivo: uso_paquete_ejemplo.py\n",
        "\n",
        "import paquete_ejemplo\n",
        "\n",
        "print(paquete_ejemplo.saludar())  # Debería imprimir: Hola desde el módulo\n",
        "print(paquete_ejemplo.variable_inicializada)  # Debería imprimir: Variable inicializada en __init__.py\n",
        "```\n",
        "\n",
        "¡Buen trabajo completando estos ejercicios sobre la creación y uso de paquetes en Python!"
      ]
    }
  ],
  "metadata": {
    "kernelspec": {
      "display_name": "Python 3",
      "language": "python",
      "name": "python3"
    },
    "language_info": {
      "codemirror_mode": {
        "name": "ipython",
        "version": 3
      },
      "file_extension": ".py",
      "mimetype": "text/x-python",
      "name": "python",
      "nbconvert_exporter": "python",
      "pygments_lexer": "ipython3",
      "version": "3.8.5"
    }
  },
  "nbformat": 4,
  "nbformat_minor": 4
}