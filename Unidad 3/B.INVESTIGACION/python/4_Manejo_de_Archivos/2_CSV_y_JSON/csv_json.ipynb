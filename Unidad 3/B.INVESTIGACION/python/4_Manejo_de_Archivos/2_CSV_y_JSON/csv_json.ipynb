{
  "cells": [
    {
      "cell_type": "markdown",
      "metadata": {},
      "source": [
        "# Manejo de Archivos CSV y JSON\n",
        "\n",
        "En este notebook, aprenderás cómo leer y escribir archivos CSV y JSON en Python.\n"
      ]
    },
    {
      "cell_type": "markdown",
      "metadata": {},
      "source": [
        "## Lectura y Escritura de Archivos CSV\n",
        "\n",
        "Para trabajar con archivos CSV en Python, se utiliza el módulo `csv`.\n"
      ]
    },
    {
      "cell_type": "code",
      "metadata": {},
      "outputs": [],
      "source": [
        "# Leer un archivo CSV\n",
        "import csv\n",
        "\n",
        "with open('datos.csv', mode='r') as archivo:\n",
        "    lector = csv.reader(archivo)\n",
        "    for fila in lector:\n",
        "        print(fila)\n"
      ]
    },
    {
      "cell_type": "code",
      "metadata": {},
      "outputs": [],
      "source": [
        "# Leer un archivo CSV con encabezados\n",
        "import csv\n",
        "\n",
        "with open('datos.csv', mode='r') as archivo:\n",
        "    lector = csv.DictReader(archivo)\n",
        "    for fila in lector:\n",
        "        print(fila)\n"
      ]
    },
    {
      "cell_type": "code",
      "metadata": {},
      "outputs": [],
      "source": [
        "# Escribir en un archivo CSV\n",
        "import csv\n",
        "\n",
        "with open('datos.csv', mode='w', newline='') as archivo:\n",
        "    escritor = csv.writer(archivo)\n",
        "    escritor.writerow(['Nombre', 'Edad', 'Ciudad'])\n",
        "    escritor.writerow(['Alice', 30, 'Madrid'])\n",
        "    escritor.writerow(['Bob', 25, 'Barcelona'])\n"
      ]
    },
    {
      "cell_type": "code",
      "metadata": {},
      "outputs": [],
      "source": [
        "# Escribir en un archivo CSV con encabezados\n",
        "import csv\n",
        "\n",
        "with open('datos.csv', mode='w', newline='') as archivo:\n",
        "    campos = ['Nombre', 'Edad', 'Ciudad']\n",
        "    escritor = csv.DictWriter(archivo, fieldnames=campos)\n",
        "    escritor.writeheader()\n",
        "    escritor.writerow({'Nombre': 'Alice', 'Edad': 30, 'Ciudad': 'Madrid'})\n",
        "    escritor.writerow({'Nombre': 'Bob', 'Edad': 25, 'Ciudad': 'Barcelona'})\n"
      ]
    },
    {
      "cell_type": "markdown",
      "metadata": {},
      "source": [
        "## Lectura y Escritura de Archivos JSON\n",
        "\n",
        "Para trabajar con archivos JSON en Python, se utiliza el módulo `json`.\n"
      ]
    },
    {
      "cell_type": "code",
      "metadata": {},
      "outputs": [],
      "source": [
        "# Leer un archivo JSON\n",
        "import json\n",
        "\n",
        "with open('datos.json', 'r') as archivo:\n",
        "    datos = json.load(archivo)\n",
        "    print(datos)\n"
      ]
    },
    {
      "cell_type": "code",
      "metadata": {},
      "outputs": [],
      "source": [
        "# Escribir en un archivo JSON\n",
        "import json\n",
        "\n",
        "datos = {\n",
        "    'Nombre': 'Alice',\n",
        "    'Edad': 30,\n",
        "    'Ciudad': 'Madrid'\n",
        "}\n",
        "\n",
        "with open('datos.json', 'w') as archivo:\n",
        "    json.dump(datos, archivo, indent=4)\n"
      ]
    },
    {
      "cell_type": "markdown",
      "metadata": {},
      "source": ["## Ejercicios\n"]
    },
    {
      "cell_type": "markdown",
      "metadata": {},
      "source": [
        "### Ejercicio 1: Convertir CSV a Lista de Diccionarios\n",
        "\n",
        "Escribe un programa que lea un archivo CSV y convierta su contenido en una lista de diccionarios.\n"
      ]
    },
    {
      "cell_type": "code",
      "metadata": {},
      "outputs": [],
      "source": ["# Inserta tu código aquí\n"]
    },
    {
      "cell_type": "markdown",
      "metadata": {},
      "source": [
        "### Ejercicio 2: Calcular Valor Total del Inventario\n",
        "\n",
        "Crea un archivo JSON que contenga una lista de productos, donde cada producto tiene nombre, precio y cantidad. Luego, escribe un programa que lea este archivo y calcule el valor total del inventario.\n"
      ]
    },
    {
      "cell_type": "code",
      "metadata": {},
      "outputs": [],
      "source": ["# Inserta tu código aquí\n"]
    },
    {
      "cell_type": "markdown",
      "metadata": {},
      "source": [
        "### Ejercicio 3: Convertir JSON a CSV\n",
        "\n",
        "Escribe un programa que convierta el contenido de un archivo JSON en un archivo CSV.\n"
      ]
    },
    {
      "cell_type": "code",
      "metadata": {},
      "outputs": [],
      "source": ["# Inserta tu código aquí\n"]
    },
    {
      "cell_type": "markdown",
      "metadata": {},
      "source": [
        "### Ejercicio 4: Generar Resumen de Ventas\n",
        "\n",
        "Escribe un programa que lea un archivo CSV con datos de ventas y genere un resumen en un archivo JSON con el total de ventas por producto.\n"
      ]
    },
    {
      "cell_type": "code",
      "metadata": {},
      "outputs": [],
      "source": ["# Inserta tu código aquí\n"]
    },
    {
      "cell_type": "markdown",
      "metadata": {},
      "source": [
        "## Soluciones\n",
        "\n",
        "### Solución al Ejercicio 1: Convertir CSV a Lista de Diccionarios\n",
        "\n",
        "```python\n",
        "import csv\n",
        "\n",
        "def csv_a_lista_diccionarios(archivo_path):\n",
        "    with open(archivo_path, mode='r') as archivo:\n",
        "        lector = csv.DictReader(archivo)\n",
        "        return list(lector)\n",
        "\n",
        "archivo_path = 'datos.csv'\n",
        "datos = csv_a_lista_diccionarios(archivo_path)\n",
        "print(datos)\n",
        "```\n",
        "\n",
        "### Solución al Ejercicio 2: Calcular Valor Total del Inventario\n",
        "\n",
        "```python\n",
        "import json\n",
        "\n",
        "def calcular_valor_inventario(archivo_path):\n",
        "    with open(archivo_path, 'r') as archivo:\n",
        "        productos = json.load(archivo)\n",
        "        total = sum(p['precio'] * p['cantidad'] for p in productos)\n",
        "    return total\n",
        "\n",
        "archivo_path = 'productos.json'\n",
        "total = calcular_valor_inventario(archivo_path)\n",
        "print(f'Valor total del inventario: {total}')\n",
        "```\n",
        "\n",
        "### Solución al Ejercicio 3: Convertir JSON a CSV\n",
        "\n",
        "```python\n",
        "import csv\n",
        "import json\n",
        "\n",
        "def json_a_csv(json_path, csv_path):\n",
        "    with open(json_path, 'r') as archivo_json:\n",
        "        datos = json.load(archivo_json)\n",
        "    \n",
        "    with open(csv_path, 'w', newline='') as archivo_csv:\n",
        "        campos = datos[0].keys()\n",
        "        escritor = csv.DictWriter(archivo_csv, fieldnames=campos)\n",
        "        escritor.writeheader()\n",
        "        escritor.writerows(datos)\n",
        "\n",
        "json_path = 'datos.json'\n",
        "csv_path = 'datos.csv'\n",
        "json_a_csv(json_path, csv_path)\n",
        "```\n",
        "\n",
        "### Solución al Ejercicio 4: Generar Resumen de Ventas\n",
        "\n",
        "```python\n",
        "import csv\n",
        "import json\n",
        "\n",
        "def resumen_ventas(csv_path, json_path):\n",
        "    ventas_por_producto = {}\n",
        "    \n",
        "    with open(csv_path, mode='r') as archivo_csv:\n",
        "        lector = csv.DictReader(archivo_csv)\n",
        "        for fila in lector:\n",
        "            producto = fila['producto']\n",
        "            ventas = float(fila['ventas'])\n",
        "            if producto in ventas_por_producto:\n",
        "                ventas_por_producto[producto] += ventas\n",
        "            else:\n",
        "                ventas_por_producto[producto] = ventas\n",
        "    \n",
        "    with open(json_path, 'w') as archivo_json:\n",
        "        json.dump(ventas_por_producto, archivo_json, indent=4)\n",
        "\n",
        "csv_path = 'ventas.csv'\n",
        "json_path = 'resumen_ventas.json'\n",
        "resumen_ventas(csv_path, json_path)\n",
        "```\n",
        "\n",
        "¡Buen trabajo completando estos ejercicios sobre el manejo de archivos CSV y JSON en Python!"
      ]
    }
  ],
  "metadata": {
    "kernelspec": {
      "display_name": "Python 3",
      "language": "python",
      "name": "python3"
    },
    "language_info": {
      "codemirror_mode": {
        "name": "ipython",
        "version": 3
      },
      "file_extension": ".py",
      "mimetype": "text/x-python",
      "name": "python",
      "nbconvert_exporter": "python",
      "pygments_lexer": "ipython3",
      "version": "3.8.5"
    }
  },
  "nbformat": 4,
  "nbformat_minor": 4
}