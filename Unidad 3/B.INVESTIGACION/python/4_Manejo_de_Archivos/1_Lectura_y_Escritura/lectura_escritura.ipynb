{
  "cells": [
    {
      "cell_type": "markdown",
      "metadata": {},
      "source": [
        "# Lectura y Escritura de Archivos\n",
        "\n",
        "En este notebook, aprenderás cómo leer y escribir archivos en Python.\n"
      ]
    },
    {
      "cell_type": "markdown",
      "metadata": {},
      "source": [
        "## Lectura de Archivos\n",
        "\n",
        "Para leer un archivo, se utiliza la función `open()` en modo lectura (`'r'`).\n"
      ]
    },
    {
      "cell_type": "code",
      "execution_count": null,
      "metadata": {},
      "outputs": [],
      "source": [
        "# Leer un archivo completo\n",
        "with open('archivo.txt', 'r') as archivo:\n",
        "    contenido = archivo.read()\n",
        "    print(contenido)\n"
      ]
    },
    {
      "cell_type": "code",
      "execution_count": null,
      "metadata": {},
      "outputs": [],
      "source": [
        "# Leer línea por línea\n",
        "with open('archivo.txt', 'r') as archivo:\n",
        "    for linea in archivo:\n",
        "        print(linea.strip())\n"
      ]
    },
    {
      "cell_type": "markdown",
      "metadata": {},
      "source": [
        "## Escritura de Archivos\n",
        "\n",
        "Para escribir en un archivo, se utiliza la función `open()` en modo escritura (`'w'`). Esto sobrescribe el contenido existente.\n"
      ]
    },
    {
      "cell_type": "code",
      "execution_count": null,
      "metadata": {},
      "outputs": [],
      "source": [
        "# Escribir en un archivo\n",
        "with open('archivo.txt', 'w') as archivo:\n",
        "    archivo.write('Hola, mundo!')\n"
      ]
    },
    {
      "cell_type": "markdown",
      "metadata": {},
      "source": [
        "## Uso del Modo Append\n",
        "\n",
        "Para agregar contenido a un archivo sin sobrescribir el existente, se utiliza el modo append (`'a'`).\n"
      ]
    },
    {
      "cell_type": "code",
      "execution_count": null,
      "metadata": {},
      "outputs": [],
      "source": [
        "# Agregar contenido a un archivo\n",
        "with open('archivo.txt', 'a') as archivo:\n",
        "    archivo.write('\\nNueva línea agregada')\n"
      ]
    },
    {
      "cell_type": "markdown",
      "metadata": {},
      "source": [
        "## Gestión de Archivos con el Bloque `with`\n",
        "\n",
        "El bloque `with` asegura que el archivo se cierre correctamente después de que se complete el bloque de código.\n"
      ]
    },
    {
      "cell_type": "code",
      "execution_count": null,
      "metadata": {},
      "outputs": [],
      "source": [
        "# Uso del bloque with para manejar archivos\n",
        "with open('archivo.txt', 'r') as archivo:\n",
        "    contenido = archivo.read()\n",
        "    print(contenido)\n"
      ]
    },
    {
      "cell_type": "markdown",
      "metadata": {},
      "source": [
        "## Lectura y Escritura de Archivos Binarios\n",
        "\n",
        "Para trabajar con archivos binarios, se utilizan los modos `'rb'` para lectura y `'wb'` para escritura.\n"
      ]
    },
    {
      "cell_type": "code",
      "execution_count": null,
      "metadata": {},
      "outputs": [],
      "source": [
        "# Leer un archivo binario\n",
        "with open('imagen.jpg', 'rb') as archivo:\n",
        "    contenido = archivo.read()\n"
      ]
    },
    {
      "cell_type": "code",
      "execution_count": null,
      "metadata": {},
      "outputs": [],
      "source": [
        "# Escribir en un archivo binario\n",
        "with open('imagen_copia.jpg', 'wb') as archivo:\n",
        "    archivo.write(contenido)\n"
      ]
    },
    {
      "cell_type": "markdown",
      "metadata": {},
      "source": [
        "## Ejercicios\n"
      ]
    },
    {
      "cell_type": "markdown",
      "metadata": {},
      "source": [
        "### Ejercicio 1: Contar Líneas, Palabras y Caracteres\n",
        "\n",
        "Escribe un programa que lea un archivo de texto y cuente el número de líneas, palabras y caracteres.\n"
      ]
    },
    {
      "cell_type": "code",
      "execution_count": null,
      "metadata": {},
      "outputs": [],
      "source": [
        "# Inserta tu código aquí\n"
      ]
    },
    {
      "cell_type": "markdown",
      "metadata": {},
      "source": [
        "### Ejercicio 2: Tablas de Multiplicar\n",
        "\n",
        "Crea un archivo de texto y escribe las tablas de multiplicar del 1 al 10.\n"
      ]
    },
    {
      "cell_type": "code",
      "execution_count": null,
      "metadata": {},
      "outputs": [],
      "source": [
        "# Inserta tu código aquí\n"
      ]
    },
    {
      "cell_type": "markdown",
      "metadata": {},
      "source": [
        "### Ejercicio 3: Copiar Archivo Binario\n",
        "\n",
        "Escribe un programa que lea un archivo binario y cree una copia del mismo.\n"
      ]
    },
    {
      "cell_type": "code",
      "execution_count": null,
      "metadata": {},
      "outputs": [],
      "source": [
        "# Inserta tu código aquí\n"
      ]
    },
    {
      "cell_type": "markdown",
      "metadata": {},
      "source": [
        "### Ejercicio 4: Agregar Línea a un Archivo\n",
        "\n",
        "Modifica un archivo de texto existente para agregarle una nueva línea al final sin sobrescribir el contenido existente.\n"
      ]
    },
    {
      "cell_type": "code",
      "execution_count": null,
      "metadata": {},
      "outputs": [],
      "source": [
        "# Inserta tu código aquí\n"
      ]
    },
    {
      "cell_type": "markdown",
      "metadata": {},
      "source": [
        "## Soluciones\n",
        "\n",
        "### Solución al Ejercicio 1: Contar Líneas, Palabras y Caracteres\n",
        "\n",
        "```python\n",
        "def contar_elementos(archivo_path):\n",
        "    with open(archivo_path, 'r') as archivo:\n",
        "        lineas = archivo.readlines()\n",
        "        num_lineas = len(lineas)\n",
        "        num_palabras = sum(len(linea.split()) for linea in lineas)\n",
        "        num_caracteres = sum(len(linea) for linea in lineas)\n",
        "    return num_lineas, num_palabras, num_caracteres\n",
        "\n",
        "archivo_path = 'archivo.txt'\n",
        "lineas, palabras, caracteres = contar_elementos(archivo_path)\n",
        "print(f'Número de líneas: {lineas}')\n",
        "print(f'Número de palabras: {palabras}')\n",
        "print(f'Número de caracteres: {caracteres}')\n",
        "```\n",
        "\n",
        "### Solución al Ejercicio 2: Tablas de Multiplicar\n",
        "\n",
        "```python\n",
        "with open('tablas_multiplicar.txt', 'w') as archivo:\n",
        "    for i in range(1, 11):\n",
        "        for j in range(1, 11):\n",
        "            archivo.write(f'{i} x {j} = {i * j}\\n')\n",
        "        archivo.write('\\n')\n",
        "```\n",
        "\n",
        "### Solución al Ejercicio 3: Copiar Archivo Binario\n",
        "\n",
        "```python\n",
        "def copiar_archivo_binario(origen_path, destino_path):\n",
        "    with open(origen_path, 'rb') as archivo_origen:\n",
        "        contenido = archivo_origen.read()\n",
        "    with open(destino_path, 'wb') as archivo_destino:\n",
        "        archivo_destino.write(contenido)\n",
        "\n",
        "origen_path = 'imagen.jpg'\n",
        "destino_path = 'imagen_copia.jpg'\n",
        "copiar_archivo_binario(origen_path, destino_path)\n",
        "```\n",
        "\n",
        "### Solución al Ejercicio 4: Agregar Línea a un Archivo\n",
        "\n",
        "```python\n",
        "def agregar_linea(archivo_path, linea):\n",
        "    with open(archivo_path, 'a') as archivo:\n",
        "        archivo.write(f'\\n{linea}')\n",
        "\n",
        "archivo_path = 'archivo.txt'\n",
        "linea_nueva = 'Esta es una nueva línea.'\n",
        "agregar_linea(archivo_path, linea_nueva)\n",
        "```\n",
        "\n",
        "¡Buen trabajo completando estos ejercicios sobre la lectura y escritura de archivos en Python!"
      ]
    }
  ],
  "metadata": {
    "kernelspec": {
      "display_name": "Python 3",
      "language": "python",
      "name": "python3"
    },
    "language_info": {
      "codemirror_mode": {
        "name": "ipython",
        "version": 3
      },
      "file_extension": ".py",
      "mimetype": "text/x-python",
      "name": "python",
      "nbconvert_exporter": "python",
      "pygments_lexer": "ipython3",
      "version": "3.8.5"
    }
  },
  "nbformat": 4,
  "nbformat_minor": 4
}
