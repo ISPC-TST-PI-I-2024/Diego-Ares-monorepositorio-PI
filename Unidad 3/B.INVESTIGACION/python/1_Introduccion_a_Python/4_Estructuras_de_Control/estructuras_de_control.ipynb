{
  "cells": [
    {
      "cell_type": "markdown",
      "metadata": {},
      "source": [
        "# Estructuras de Control\n",
        "\n",
        "En este notebook, aprenderás cómo utilizar las estructuras de control en Python, incluyendo condicionales, bucles y control de flujo.\n"
      ]
    },
    {
      "cell_type": "markdown",
      "metadata": {},
      "source": [
        "## Condicionales\n",
        "\n",
        "Los condicionales se utilizan para ejecutar código basado en una condición.\n"
      ]
    },
    {
      "cell_type": "code",
      "execution_count": null,
      "metadata": {},
      "outputs": [],
      "source": [
        "# Ejemplo de condicionales\n",
        "a = 10\n",
        "b = 20\n",
        "\n",
        "if a > b:\n",
        "    print(\"a es mayor que b\")\n",
        "elif a < b:\n",
        "    print(\"a es menor que b\")\n",
        "else:\n",
        "    print(\"a es igual a b\")\n"
      ]
    },
    {
      "cell_type": "markdown",
      "metadata": {},
      "source": [
        "## Bucles\n",
        "\n",
        "Los bucles permiten ejecutar repetidamente un bloque de código mientras se cumpla una condición.\n"
      ]
    },
    {
      "cell_type": "markdown",
      "metadata": {},
      "source": [
        "### Bucle for\n",
        "\n",
        "El bucle `for` itera sobre una secuencia (como una lista, tupla, diccionario, conjunto o cadena).\n"
      ]
    },
    {
      "cell_type": "code",
      "execution_count": null,
      "metadata": {},
      "outputs": [],
      "source": [
        "# Ejemplo de bucle for\n",
        "for i in range(5):\n",
        "    print(\"Iteración:\", i)\n"
      ]
    },
    {
      "cell_type": "markdown",
      "metadata": {},
      "source": [
        "### Bucle while\n",
        "\n",
        "El bucle `while` repite un bloque de código mientras una condición sea verdadera.\n"
      ]
    },
    {
      "cell_type": "code",
      "execution_count": null,
      "metadata": {},
      "outputs": [],
      "source": [
        "# Ejemplo de bucle while\n",
        "contador = 0\n",
        "while contador < 5:\n",
        "    print(\"Contador:\", contador)\n",
        "    contador += 1\n"
      ]
    },
    {
      "cell_type": "markdown",
      "metadata": {},
      "source": [
        "## Control de Flujo\n",
        "\n",
        "El control de flujo altera la ejecución normal de un bucle.\n"
      ]
    },
    {
      "cell_type": "markdown",
      "metadata": {},
      "source": [
        "### Break\n",
        "\n",
        "La declaración `break` termina el bucle actual.\n"
      ]
    },
    {
      "cell_type": "code",
      "execution_count": null,
      "metadata": {},
      "outputs": [],
      "source": [
        "# Ejemplo de break\n",
        "for i in range(10):\n",
        "    if i == 5:\n",
        "        break\n",
        "    print(i)\n"
      ]
    },
    {
      "cell_type": "markdown",
      "metadata": {},
      "source": [
        "### Continue\n",
        "\n",
        "La declaración `continue` omite la iteración actual y continúa con la siguiente iteración del bucle.\n"
      ]
    },
    {
      "cell_type": "code",
      "execution_count": null,
      "metadata": {},
      "outputs": [],
      "source": [
        "# Ejemplo de continue\n",
        "for i in range(10):\n",
        "    if i % 2 == 0:\n",
        "        continue\n",
        "    print(i)\n"
      ]
    },
    {
      "cell_type": "markdown",
      "metadata": {},
      "source": [
        "### Pass\n",
        "\n",
        "La declaración `pass` no hace nada. Se utiliza como un marcador de posición.\n"
      ]
    },
    {
      "cell_type": "code",
      "execution_count": null,
      "metadata": {},
      "outputs": [],
      "source": [
        "# Ejemplo de pass\n",
        "for i in range(5):\n",
        "    if i == 3:\n",
        "        pass  # El pass no hace nada\n",
        "    print(i)\n"
      ]
    },
    {
      "cell_type": "markdown",
      "metadata": {},
      "source": ["## Ejercicios\n"]
    },
    {
      "cell_type": "markdown",
      "metadata": {},
      "source": [
        "### Ejercicio 1: Condicionales\n",
        "\n",
        "Escribe un programa que solicite al usuario ingresar dos números y luego imprima cuál de los dos números es mayor.\n"
      ]
    },
    {
      "cell_type": "code",
      "execution_count": null,
      "metadata": {},
      "outputs": [],
      "source": ["# Inserta tu código aquí\n"]
    },
    {
      "cell_type": "markdown",
      "metadata": {},
      "source": [
        "### Ejercicio 2: Bucle for\n",
        "\n",
        "Escribe un programa que imprima los números del 1 al 10 utilizando un bucle `for`.\n"
      ]
    },
    {
      "cell_type": "code",
      "execution_count": null,
      "metadata": {},
      "outputs": [],
      "source": ["# Inserta tu código aquí\n"]
    },
    {
      "cell_type": "markdown",
      "metadata": {},
      "source": [
        "### Ejercicio 3: Bucle while\n",
        "\n",
        "Escribe un programa que utilice un bucle `while` para imprimir los números del 10 al 1 en orden descendente.\n"
      ]
    },
    {
      "cell_type": "code",
      "execution_count": null,
      "metadata": {},
      "outputs": [],
      "source": ["# Inserta tu código aquí\n"]
    },
    {
      "cell_type": "markdown",
      "metadata": {},
      "source": [
        "### Ejercicio 4: Break\n",
        "\n",
        "Escribe un programa que utilice un bucle `for` para imprimir los números del 1 al 10, pero se detenga si encuentra el número 7.\n"
      ]
    },
    {
      "cell_type": "code",
      "execution_count": null,
      "metadata": {},
      "outputs": [],
      "source": ["# Inserta tu código aquí\n"]
    },
    {
      "cell_type": "markdown",
      "metadata": {},
      "source": [
        "### Ejercicio 5: Continue\n",
        "\n",
        "Escribe un programa que utilice un bucle `for` para imprimir todos los números del 1 al 10, excepto los múltiplos de 3.\n"
      ]
    },
    {
      "cell_type": "code",
      "execution_count": null,
      "metadata": {},
      "outputs": [],
      "source": ["# Inserta tu código aquí\n"]
    },
    {
      "cell_type": "markdown",
      "metadata": {},
      "source": [
        "### Ejercicio 6: Pass\n",
        "\n",
        "Escribe un programa que utilice un bucle `for` para iterar sobre los números del 1 al 5 y use `pass` para el número 3.\n"
      ]
    },
    {
      "cell_type": "code",
      "execution_count": null,
      "metadata": {},
      "outputs": [],
      "source": ["# Inserta tu código aquí\n"]
    },
    {
      "cell_type": "markdown",
      "metadata": {},
      "source": [
        "## Soluciones\n",
        "\n",
        "### Solución al Ejercicio 1: Condicionales\n",
        "\n",
        "```python\n",
        "num1 = int(input(\"Ingresa el primer número: \"))\n",
        "num2 = int(input(\"Ingresa el segundo número: \"))\n",
        "\n",
        "if num1 > num2:\n",
        "    print(f\"{num1} es mayor que {num2}\")\n",
        "elif num1 < num2:\n",
        "    print(f\"{num1} es menor que {num2}\")\n",
        "else:\n",
        "    print(f\"{num1} es igual a {num2}\")\n",
        "```\n",
        "\n",
        "### Solución al Ejercicio 2: Bucle for\n",
        "\n",
        "```python\n",
        "for i in range(1, 11):\n",
        "    print(i)\n",
        "```\n",
        "\n",
        "### Solución al Ejercicio 3: Bucle while\n",
        "\n",
        "```python\n",
        "contador = 10\n",
        "while contador > 0:\n",
        "    print(contador)\n",
        "    contador -= 1\n",
        "```\n",
        "\n",
        "### Solución al Ejercicio 4: Break\n",
        "\n",
        "```python\n",
        "for i in range(1, 11):\n",
        "    if i == 7:\n",
        "        break\n",
        "    print(i)\n",
        "```\n",
        "\n",
        "### Solución al Ejercicio 5: Continue\n",
        "\n",
        "```python\n",
        "for i in range(1, 11):\n",
        "    if i % 3 == 0:\n",
        "        continue\n",
        "    print(i)\n",
        "```\n",
        "\n",
        "### Solución al Ejercicio 6: Pass\n",
        "\n",
        "```python\n",
        "for i in range(1, 6):\n",
        "    if i == 3:\n",
        "        pass\n",
        "    print(i)\n",
        "```\n",
        "\n",
        "¡Buen trabajo completando estos ejercicios sobre las estructuras de control en Python!"
      ]
    }
  ],
  "metadata": {
    "kernelspec": {
      "display_name": "Python 3",
      "language": "python",
      "name": "python3"
    },
    "language_info": {
      "codemirror_mode": {
        "name": "ipython",
        "version": 3
      },
      "file_extension": ".py",
      "mimetype": "text/x-python",
      "name": "python",
      "nbconvert_exporter": "python",
      "pygments_lexer": "ipython3",
      "version": "3.8.5"
    }
  },
  "nbformat": 4,
  "nbformat_minor": 4
}
