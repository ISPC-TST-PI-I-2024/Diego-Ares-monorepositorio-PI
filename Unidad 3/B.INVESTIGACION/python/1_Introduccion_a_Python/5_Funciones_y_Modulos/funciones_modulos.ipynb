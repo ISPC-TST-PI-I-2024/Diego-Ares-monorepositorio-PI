{
  "cells": [
    {
      "cell_type": "markdown",
      "metadata": {},
      "source": [
        "# Funciones y Módulos\n",
        "\n",
        "En este notebook, aprenderás cómo declarar y usar funciones en Python, así como cómo organizar el código en módulos y paquetes.\n"
      ]
    },
    {
      "cell_type": "markdown",
      "metadata": {},
      "source": [
        "## Declaración y Uso de Funciones\n",
        "\n",
        "Las funciones se utilizan para organizar el código en bloques reutilizables.\n"
      ]
    },
    {
      "cell_type": "code",
      "execution_count": null,
      "metadata": {},
      "outputs": [],
      "source": [
        "# Ejemplo de declaración y uso de funciones\n",
        "def saludar(nombre):\n",
        "    return f\"Hola, {nombre}\"\n",
        "\n",
        "print(saludar(\"Mundo\"))\n"
      ]
    },
    {
      "cell_type": "markdown",
      "metadata": {},
      "source": [
        "## Parámetros y Argumentos\n",
        "\n",
        "Puedes definir funciones con múltiples parámetros y llamarlas con argumentos.\n"
      ]
    },
    {
      "cell_type": "code",
      "execution_count": null,
      "metadata": {},
      "outputs": [],
      "source": [
        "# Ejemplo de parámetros y argumentos\n",
        "def sumar(a, b):\n",
        "    return a + b\n",
        "\n",
        "print(sumar(3, 5))\n"
      ]
    },
    {
      "cell_type": "markdown",
      "metadata": {},
      "source": [
        "## Funciones Lambda\n",
        "\n",
        "Las funciones lambda son funciones pequeñas y anónimas definidas con la palabra clave `lambda`.\n"
      ]
    },
    {
      "cell_type": "code",
      "execution_count": null,
      "metadata": {},
      "outputs": [],
      "source": [
        "# Ejemplo de funciones lambda\n",
        "suma = lambda a, b: a + b\n",
        "print(suma(3, 5))\n"
      ]
    },
    {
      "cell_type": "markdown",
      "metadata": {},
      "source": [
        "## Módulos y Paquetes\n",
        "\n",
        "Puedes organizar el código en módulos y paquetes para mejorar la estructura y la reutilización.\n"
      ]
    },
    {
      "cell_type": "markdown",
      "metadata": {},
      "source": [
        "### Creación y Uso de Módulos\n",
        "\n",
        "Un módulo es un archivo que contiene definiciones y declaraciones de Python.\n"
      ]
    },
    {
      "cell_type": "code",
      "execution_count": null,
      "metadata": {},
      "outputs": [],
      "source": [
        "# archivo: mi_modulo.py\n",
        "\n",
        "def saludar(nombre):\n",
        "    return f\"Hola, {nombre}\"\n"
      ]
    },
    {
      "cell_type": "markdown",
      "metadata": {},
      "source": ["Puedes importar y usar un módulo en otro archivo.\n"]
    },
    {
      "cell_type": "code",
      "execution_count": null,
      "metadata": {},
      "outputs": [],
      "source": [
        "# archivo: main.py\n",
        "\n",
        "import mi_modulo\n",
        "\n",
        "print(mi_modulo.saludar(\"Mundo\"))\n"
      ]
    },
    {
      "cell_type": "markdown",
      "metadata": {},
      "source": [
        "### Organización de Paquetes\n",
        "\n",
        "Un paquete es una colección de módulos organizados en un directorio.\n"
      ]
    },
    {
      "cell_type": "markdown",
      "metadata": {},
      "source": [
        "```\n",
        "mi_paquete/\n",
        "    __init__.py\n",
        "    modulo1.py\n",
        "    modulo2.py\n",
        "```\n",
        "\n",
        "Puedes importar y usar módulos de un paquete.\n"
      ]
    },
    {
      "cell_type": "code",
      "execution_count": null,
      "metadata": {},
      "outputs": [],
      "source": [
        "# archivo: main.py\n",
        "\n",
        "from mi_paquete import modulo1\n",
        "\n",
        "print(modulo1.saludar(\"Mundo\"))\n"
      ]
    },
    {
      "cell_type": "markdown",
      "metadata": {},
      "source": ["## Ejercicios\n"]
    },
    {
      "cell_type": "markdown",
      "metadata": {},
      "source": [
        "### Ejercicio 1: Funciones\n",
        "\n",
        "Escribe una función que reciba una lista de números y devuelva la suma de todos los números.\n"
      ]
    },
    {
      "cell_type": "code",
      "execution_count": null,
      "metadata": {},
      "outputs": [],
      "source": ["# Inserta tu código aquí\n"]
    },
    {
      "cell_type": "markdown",
      "metadata": {},
      "source": [
        "### Ejercicio 2: Funciones Lambda\n",
        "\n",
        "Escribe una función lambda que reciba dos números y devuelva su producto.\n"
      ]
    },
    {
      "cell_type": "code",
      "execution_count": null,
      "metadata": {},
      "outputs": [],
      "source": ["# Inserta tu código aquí\n"]
    },
    {
      "cell_type": "markdown",
      "metadata": {},
      "source": [
        "### Ejercicio 3: Módulos\n",
        "\n",
        "Crea un módulo con una función que convierta grados Celsius a Fahrenheit y úsalo en otro archivo.\n"
      ]
    },
    {
      "cell_type": "code",
      "execution_count": null,
      "metadata": {},
      "outputs": [],
      "source": ["# Inserta tu código aquí\n"]
    },
    {
      "cell_type": "markdown",
      "metadata": {},
      "source": [
        "### Ejercicio 4: Paquetes\n",
        "\n",
        "Organiza un paquete con dos módulos: uno que contenga funciones matemáticas y otro que contenga funciones de cadenas. Usa ambos módulos en un script principal.\n"
      ]
    },
    {
      "cell_type": "code",
      "execution_count": null,
      "metadata": {},
      "outputs": [],
      "source": ["# Inserta tu código aquí\n"]
    },
    {
      "cell_type": "markdown",
      "metadata": {},
      "source": [
        "## Soluciones\n",
        "\n",
        "### Solución al Ejercicio 1: Funciones\n",
        "\n",
        "```python\n",
        "def sumar_lista(lista):\n",
        "    return sum(lista)\n",
        "\n",
        "# Prueba de la función\n",
        "print(sumar_lista([1, 2, 3, 4, 5]))  # Debería devolver 15\n",
        "```\n",
        "\n",
        "### Solución al Ejercicio 2: Funciones Lambda\n",
        "\n",
        "```python\n",
        "producto = lambda a, b: a * b\n",
        "print(producto(3, 5))  # Debería devolver 15\n",
        "```\n",
        "\n",
        "### Solución al Ejercicio 3: Módulos\n",
        "\n",
        "```python\n",
        "# archivo: conversion.py\n",
        "\n",
        "def celsius_a_fahrenheit(celsius):\n",
        "    return celsius * 9/5 + 32\n",
        "\n",
        "# archivo: main.py\n",
        "\n",
        "import conversion\n",
        "\n",
        "print(conversion.celsius_a_fahrenheit(25))  # Debería devolver 77.0\n",
        "```\n",
        "\n",
        "### Solución al Ejercicio 4: Paquetes\n",
        "\n",
        "```python\n",
        "# archivo: mi_paquete/matematicas.py\n",
        "\n",
        "def sumar(a, b):\n",
        "    return a + b\n",
        "\n",
        "# archivo: mi_paquete/cadenas.py\n",
        "\n",
        "def capitalizar(texto):\n",
        "    return texto.capitalize()\n",
        "\n",
        "# archivo: main.py\n",
        "\n",
        "from mi_paquete import matematicas, cadenas\n",
        "\n",
        "print(matematicas.sumar(3, 5))  # Debería devolver 8\n",
        "print(cadenas.capitalizar(\"hola\"))  # Debería devolver \"Hola\"\n",
        "```\n",
        "\n",
        "¡Buen trabajo completando estos ejercicios sobre funciones y módulos en Python!"
      ]
    }
  ],
  "metadata": {
    "kernelspec": {
      "display_name": "Python 3",
      "language": "python",
      "name": "python3"
    },
    "language_info": {
      "codemirror_mode": {
        "name": "ipython",
        "version": 3
      },
      "file_extension": ".py",
      "mimetype": "text/x-python",
      "name": "python",
      "nbconvert_exporter": "python",
      "pygments_lexer": "ipython3",
      "version": "3.8.5"
    }
  },
  "nbformat": 4,
  "nbformat_minor": 4
}
