{
 "cells": [
  {
   "cell_type": "markdown",
   "metadata": {},
   "source": [
    "# Instalación y Configuración\n",
    "\n",
    "En este notebook, aprenderás las primeras prácticas con Python, incluyendo el uso del intérprete interactivo (REPL), la guía de estilos, la indentación, los espacios, los saltos de línea, los comentarios, la documentación, y las convenciones de nombres.\n",
    "\n",
    "## El Intérprete Interactivo (REPL)\n",
    "\n",
    "El REPL (Read-Eval-Print Loop) es una herramienta interactiva que te permite ejecutar código Python línea por línea. Es útil para probar pequeños fragmentos de código y explorar las funcionalidades de Python.\n",
    "\n",
    "Para abrir el REPL, simplemente abre una terminal y escribe `python` o `python3`. Verás un prompt como `>>>` donde puedes escribir y ejecutar código Python.\n",
    "\n",
    "### Ejemplos de Uso del REPL\n",
    "\n",
    "```python\n",
    ">>> print(\"¡Hola, mundo!\")\n",
    "¡Hola, mundo!\n",
    "```\n",
    "\n",
    "### Ver la Ayuda en REPL\n",
    "\n",
    "Puedes usar la función `help()` para obtener ayuda sobre módulos, funciones, clases, etc.\n",
    "\n",
    "```python\n",
    ">>> help(print)\n",
    "```\n",
    "\n",
    "### Ver el Zen de Python\n",
    "\n",
    "El Zen de Python es una colección de principios que influyen en el diseño de Python. Para verlo, escribe `import this` en el REPL.\n",
    "\n",
    "```python\n",
    ">>> import this\n",
    "```\n",
    "\n",
    "### Ver los Módulos Disponibles\n",
    "\n",
    "Para ver una lista de los módulos disponibles, puedes usar el comando `help(\"modules\")`.\n",
    "\n",
    "```python\n",
    ">>> help(\"modules\")\n",
    "```\n",
    "\n",
    "### Ver las Palabras Reservadas\n",
    "\n",
    "Para ver una lista de las palabras reservadas en Python, usa el módulo `keyword`.\n",
    "\n",
    "```python\n",
    ">>> import keyword\n",
    ">>> print(keyword.kwlist)\n",
    "```\n",
    "\n",
    "## Guía de Estilos en Python\n",
    "\n",
    "### Indentación\n",
    "\n",
    "Python utiliza la indentación para definir bloques de código. Es importante mantener una indentación consistente. Se recomienda usar 4 espacios por nivel de indentación.\n",
    "\n",
    "### Espacios y Saltos de Línea\n",
    "\n",
    "- Usa un espacio después de una coma (`,`) y alrededor de los operadores (`=`, `+`, `-`, etc.).\n",
    "- Usa líneas en blanco para separar funciones y clases, así como bloques de código dentro de funciones para mejorar la legibilidad.\n",
    "\n",
    "### Comentarios\n",
    "\n",
    "Usa comentarios para explicar el propósito del código. Los comentarios deben ser claros y concisos.\n",
    "\n",
    "```python\n",
    "# Esto es un comentario de una sola línea\n",
    "\n",
    "\"\"\"\n",
    "Esto es un comentario\n",
    "de múltiples líneas\n",
    "\"\"\"\n",
    "```\n",
    "\n",
    "### Documentación\n",
    "\n",
    "Usa docstrings para documentar módulos, clases y funciones. Un docstring es una cadena que aparece justo después de la definición de un módulo, clase o función.\n",
    "\n",
    "```python\n",
    "def mi_funcion():\n",
    "    \"\"\"\n",
    "    Esto es un docstring que describe la función.\n",
    "    \"\"\"\n",
    "    pass\n",
    "```\n",
    "\n",
    "### Convenciones de Nombres\n",
    "\n",
    "- **CamelCase**: Se usa para nombres de clases.\n",
    "- **snake_case**: Se usa para nombres de variables y funciones.\n",
    "- **SCREAMING_SNAKE_CASE**: Se usa para nombres de constantes.\n",
    "- **minúsculas**: Se usa para nombres de módulos y paquetes.\n",
    "\n",
    "```python\n",
    "class MiClase:\n",
    "    pass\n",
    "\n",
    "def mi_funcion():\n",
    "    pass\n",
    "\n",
    "MI_CONSTANTE = 42\n",
    "```\n",
    "\n",
    "## Entornos Virtuales\n",
    "\n",
    "Un entorno virtual es una herramienta que ayuda a mantener dependencias separadas por proyecto. Esto es especialmente útil cuando se trabaja en múltiples proyectos con diferentes dependencias.\n",
    "\n",
    "### venv\n",
    "\n",
    "La herramienta `venv` viene con Python 3.3 y versiones posteriores y permite crear entornos virtuales ligeros.\n",
    "\n",
    "```bash\n",
    "python -m venv env\n",
    "source env/bin/activate  # En macOS/Linux\n",
    ".\\env\\Scripts\\activate  # En Windows\n",
    "```\n",
    "\n",
    "### pipenv\n",
    "\n",
    "`pipenv` es una herramienta de gestión de entornos y paquetes para Python.\n",
    "\n",
    "```bash\n",
    "pip install pipenv\n",
    "pipenv install requests\n",
    "pipenv shell\n",
    "```\n",
    "\n",
    "### pyenv\n",
    "\n",
    "`pyenv` es una herramienta que permite instalar y gestionar múltiples versiones de Python.\n",
    "\n",
    "```bash\n",
    "pyenv install 3.8.6\n",
    "pyenv global 3.8.6\n",
    "```\n",
    "\n",
    "## Ejercicio\n",
    "\n",
    "Ejecuta el siguiente código en una celda de código para probar algunos de los conceptos discutidos.\n"
   ]
  },
  {
   "cell_type": "code",
   "execution_count": 1,
   "metadata": {},
   "outputs": [
    {
     "name": "stdout",
     "output_type": "stream",
     "text": [
      "¡Hola, mundo!\n"
     ]
    }
   ],
   "source": [
    "# Imprimir una cadena\n",
    "print(\"¡Hola, mundo!\")\n"
   ]
  },
  {
   "cell_type": "code",
   "execution_count": 2,
   "metadata": {},
   "outputs": [
    {
     "name": "stdout",
     "output_type": "stream",
     "text": [
      "The Zen of Python, by Tim Peters\n",
      "\n",
      "Beautiful is better than ugly.\n",
      "Explicit is better than implicit.\n",
      "Simple is better than complex.\n",
      "Complex is better than complicated.\n",
      "Flat is better than nested.\n",
      "Sparse is better than dense.\n",
      "Readability counts.\n",
      "Special cases aren't special enough to break the rules.\n",
      "Although practicality beats purity.\n",
      "Errors should never pass silently.\n",
      "Unless explicitly silenced.\n",
      "In the face of ambiguity, refuse the temptation to guess.\n",
      "There should be one-- and preferably only one --obvious way to do it.\n",
      "Although that way may not be obvious at first unless you're Dutch.\n",
      "Now is better than never.\n",
      "Although never is often better than *right* now.\n",
      "If the implementation is hard to explain, it's a bad idea.\n",
      "If the implementation is easy to explain, it may be a good idea.\n",
      "Namespaces are one honking great idea -- let's do more of those!\n"
     ]
    }
   ],
   "source": [
    "# Ver el Zen de Python\n",
    "import this"
   ]
  },
  {
   "cell_type": "code",
   "execution_count": 3,
   "metadata": {},
   "outputs": [
    {
     "name": "stdout",
     "output_type": "stream",
     "text": [
      "['False', 'None', 'True', 'and', 'as', 'assert', 'async', 'await', 'break', 'class', 'continue', 'def', 'del', 'elif', 'else', 'except', 'finally', 'for', 'from', 'global', 'if', 'import', 'in', 'is', 'lambda', 'nonlocal', 'not', 'or', 'pass', 'raise', 'return', 'try', 'while', 'with', 'yield']\n"
     ]
    }
   ],
   "source": [
    "# Mostrar una lista de palabras reservadas\n",
    "import keyword\n",
    "print(keyword.kwlist)"
   ]
  },
  {
   "cell_type": "code",
   "execution_count": 4,
   "metadata": {},
   "outputs": [
    {
     "name": "stdout",
     "output_type": "stream",
     "text": [
      "Help on function mi_funcion in module __main__:\n",
      "\n",
      "mi_funcion()\n",
      "    Esta es una función de ejemplo que no hace nada.\n",
      "\n"
     ]
    }
   ],
   "source": [
    "# Ejemplo de una función con docstring\n",
    "def mi_funcion():\n",
    "    \"\"\"\n",
    "    Esta es una función de ejemplo que no hace nada.\n",
    "    \"\"\"\n",
    "    pass\n",
    "\n",
    "help(mi_funcion)"
   ]
  },
  {
   "cell_type": "markdown",
   "metadata": {},
   "source": [
    "Si ves la salida esperada, ¡has completado con éxito las primeras prácticas con Python!"
   ]
  }
 ],
 "metadata": {
  "kernelspec": {
   "display_name": "Python 3",
   "language": "python",
   "name": "python3"
  },
  "language_info": {
   "codemirror_mode": {
    "name": "ipython",
    "version": 3
   },
   "file_extension": ".py",
   "mimetype": "text/x-python",
   "name": "python",
   "nbconvert_exporter": "python",
   "pygments_lexer": "ipython3",
   "version": "3.10.11"
  }
 },
 "nbformat": 4,
 "nbformat_minor": 4
}
