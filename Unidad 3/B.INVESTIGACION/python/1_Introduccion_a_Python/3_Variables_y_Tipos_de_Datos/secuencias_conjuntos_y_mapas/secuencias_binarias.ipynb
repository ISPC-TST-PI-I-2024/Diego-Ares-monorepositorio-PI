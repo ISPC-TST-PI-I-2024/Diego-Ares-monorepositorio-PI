{
  "cells": [
    {
      "cell_type": "markdown",
      "metadata": {},
      "source": [
        "# Secuencias Binarias\n",
        "\n",
        "En este notebook, aprenderás sobre las secuencias binarias en Python, incluyendo datos binarios, bytes, bytearray y varias operaciones.\n",
        "\n",
        "## Datos Binarios\n",
        "Los datos binarios representan información en formato binario.\n"
      ]
    },
    {
      "cell_type": "markdown",
      "metadata": {},
      "source": [
        "## Bytes y Bytearray\n",
        "Los bytes son secuencias inmutables de enteros en el rango 0 <= x < 256.\n",
        "Los bytearray son secuencias mutables de enteros en el mismo rango.\n"
      ]
    },
    {
      "cell_type": "code",
      "metadata": {},
      "source": [
        "# Ejemplo de bytes y bytearray\n",
        "datos_bytes = b\"Hola, mundo\"\n",
        "datos_bytearray = bytearray(datos_bytes)\n",
        "print(datos_bytes)\n",
        "print(datos_bytearray)\n"
      ]
    },
    {
      "cell_type": "markdown",
      "metadata": {},
      "source": [
        "## Operaciones\n",
        "Puedes realizar varias operaciones en secuencias binarias, como concatenación, repetición, acceso a elementos, etc.\n"
      ]
    },
    {
      "cell_type": "code",
      "metadata": {},
      "source": [
        "# Ejemplo de operaciones en secuencias binarias\n",
        "datos = b\"Hola\"\n",
        "print(datos + b\", mundo\")  # Concatenación\n",
        "print(datos * 3)  # Repetición\n",
        "print(datos[1])  # Acceso a elementos\n"
      ]
    },
    {
      "cell_type": "markdown",
      "metadata": {},
      "source": [
        "## Cadenas de Literales de Bytes\n",
        "Las cadenas de literales de bytes son representaciones de datos binarios en formato de cadena.\n"
      ]
    },
    {
      "cell_type": "code",
      "metadata": {},
      "source": [
        "# Ejemplo de cadenas de literales de bytes\n",
        "cadena_bytes = b\"Hola\\x20mundo\"\n",
        "print(cadena_bytes)\n"
      ]
    }
  ],
  "metadata": {
    "kernelspec": {
      "display_name": "Python 3",
      "language": "python",
      "name": "python3"
    },
    "language_info": {
      "codemirror_mode": {
        "name": "ipython",
        "version": 3
      },
      "file_extension": ".py",
      "mimetype": "text/x-python",
      "name": "python",
      "nbconvert_exporter": "python",
      "pygments_lexer": "ipython3",
      "version": "3.8.5"
    }
  },
  "nbformat": 4,
  "nbformat_minor": 4
}
