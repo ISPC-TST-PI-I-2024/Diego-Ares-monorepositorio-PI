{
  "cells": [
    {
      "cell_type": "markdown",
      "metadata": {},
      "source": [
        "# Conjuntos\n",
        "\n",
        "En este notebook, aprenderás sobre los conjuntos en Python, incluyendo set y frozenset, y varias operaciones y funciones de actualización.\n",
        "\n",
        "## set y frozenset\n",
        "Los conjuntos son colecciones desordenadas de elementos únicos.\n",
        "Los frozensets son conjuntos inmutables.\n"
      ]
    },
    {
      "cell_type": "code",
      "metadata": {},
      "source": [
        "# Ejemplo de set y frozenset\n",
        "mi_set = {1, 2, 3, 4, 5}\n",
        "mi_frozenset = frozenset(mi_set)\n",
        "print(mi_set)\n",
        "print(mi_frozenset)\n"
      ]
    },
    {
      "cell_type": "markdown",
      "metadata": {},
      "source": [
        "## Funciones de Actualización\n",
        "Puedes actualizar conjuntos utilizando varias funciones como `add()`, `remove()`, `update()`, etc.\n"
      ]
    },
    {
      "cell_type": "code",
      "metadata": {},
      "source": [
        "# Ejemplo de funciones de actualización\n",
        "mi_set = {1, 2, 3}\n",
        "mi_set.add(4)\n",
        "mi_set.update([5, 6])\n",
        "mi_set.remove(2)\n",
        "print(mi_set)\n"
      ]
    },
    {
      "cell_type": "markdown",
      "metadata": {},
      "source": [
        "## Operaciones\n",
        "Puedes realizar varias operaciones en conjuntos, como unión, intersección, diferencia, etc.\n"
      ]
    },
    {
      "cell_type": "code",
      "metadata": {},
      "source": [
        "# Ejemplo de operaciones en conjuntos\n",
        "set1 = {1, 2, 3}\n",
        "set2 = {3, 4, 5}\n",
        "print(set1 | set2)  # Unión\n",
        "print(set1 & set2)  # Intersección\n",
        "print(set1 - set2)  # Diferencia\n"
      ]
    },
    {
      "cell_type": "markdown",
      "metadata": {},
      "source": [
        "## Condicionales\n",
        "Puedes usar condicionales para verificar la pertenencia, subconjuntos, superconjuntos, etc.\n"
      ]
    },
    {
      "cell_type": "code",
      "metadata": {},
      "source": [
        "# Ejemplo de condicionales en conjuntos\n",
        "set1 = {1, 2, 3}\n",
        "set2 = {1, 2}\n",
        "print(1 in set1)  # Pertenencia\n",
        "print(set2.issubset(set1))  # Subconjunto\n",
        "print(set1.issuperset(set2))  # Superconjunto\n"
      ]
    }
  ],
  "metadata": {
    "kernelspec": {
      "display_name": "Python 3",
      "language": "python",
      "name": "python3"
    },
    "language_info": {
      "codemirror_mode": {
        "name": "ipython",
        "version": 3
      },
      "file_extension": ".py",
      "mimetype": "text/x-python",
      "name": "python",
      "nbconvert_exporter": "python",
      "pygments_lexer": "ipython3",
      "version": "3.8.5"
    }
  },
  "nbformat": 4,
  "nbformat_minor": 4
}
