{
  "cells": [
    {
      "cell_type": "markdown",
      "metadata": {},
      "source": [
        "# Expresiones Generadoras\n",
        "\n",
        "En este notebook, aprenderás sobre las expresiones generadoras en Python, incluyendo cómo usarlas por comprensión y cómo trabajar con objetos generadores.\n",
        "\n",
        "## Por Comprensión\n",
        "Las expresiones generadoras por comprensión permiten crear generadores de una manera concisa.\n"
      ]
    },
    {
      "cell_type": "code",
      "metadata": {},
      "source": [
        "# Ejemplo de expresión generadora por comprensión\n",
        "mi_generador = (x * 2 for x in range(5))\n",
        "print(list(mi_generador))\n"
      ]
    },
    {
      "cell_type": "markdown",
      "metadata": {},
      "source": [
        "## Objetos Generadores\n",
        "Los objetos generadores son iteradores que se crean usando funciones generadoras y la palabra clave `yield`.\n"
      ]
    },
    {
      "cell_type": "code",
      "metadata": {},
      "source": [
        "# Ejemplo de objeto generador\n",
        "def mi_generador():\n",
        "    for i in range(5):\n",
        "        yield i * 2\n",
        "\n",
        "gen = mi_generador()\n",
        "print(next(gen))\n",
        "print(next(gen))\n"
      ]
    }
  ],
  "metadata": {
    "kernelspec": {
      "display_name": "Python 3",
      "language": "python",
      "name": "python3"
    },
    "language_info": {
      "codemirror_mode": {
        "name": "ipython",
        "version": 3
      },
      "file_extension": ".py",
      "mimetype": "text/x-python",
      "name": "python",
      "nbconvert_exporter": "python",
      "pygments_lexer": "ipython3",
      "version": "3.8.5"
    }
  },
  "nbformat": 4,
  "nbformat_minor": 4
}