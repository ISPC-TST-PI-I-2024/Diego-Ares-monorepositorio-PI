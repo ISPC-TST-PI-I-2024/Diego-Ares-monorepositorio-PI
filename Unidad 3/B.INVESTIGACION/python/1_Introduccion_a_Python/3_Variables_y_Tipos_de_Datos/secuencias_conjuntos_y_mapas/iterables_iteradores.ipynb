{
  "cells": [
    {
      "cell_type": "markdown",
      "metadata": {},
      "source": [
        "# Iterables e Iteradores\n",
        "\n",
        "En este notebook, aprenderás sobre los iterables e iteradores en Python, incluyendo cómo trabajar con ellos usando varios operadores.\n",
        "\n",
        "## Iterables\n",
        "Los iterables son objetos que pueden ser iterados, como listas, tuplas, conjuntos, diccionarios, etc.\n"
      ]
    },
    {
      "cell_type": "code",
      "metadata": {},
      "source": [
        "# Ejemplo de iterables\n",
        "mi_lista = [1, 2, 3, 4, 5]\n",
        "for elemento in mi_lista:\n",
        "    print(elemento)\n"
      ]
    },
    {
      "cell_type": "markdown",
      "metadata": {},
      "source": [
        "## Iteradores\n",
        "Los iteradores son objetos que representan una secuencia de datos y se pueden iterar utilizando la función `next()`.\n"
      ]
    },
    {
      "cell_type": "code",
      "metadata": {},
      "source": [
        "# Ejemplo de iteradores\n",
        "mi_iterador = iter(mi_lista)\n",
        "print(next(mi_iterador))\n",
        "print(next(mi_iterador))\n"
      ]
    },
    {
      "cell_type": "markdown",
      "metadata": {},
      "source": [
        "## Operadores para Trabajar con Iterables\n",
        "Puedes usar varios operadores para trabajar con iterables, como `map()`, `filter()`, `zip()`, etc.\n"
      ]
    },
    {
      "cell_type": "code",
      "metadata": {},
      "source": [
        "# Ejemplo de operadores para trabajar con iterables\n",
        "mi_lista = [1, 2, 3, 4, 5]\n",
        "mi_lista_doble = list(map(lambda x: x * 2, mi_lista))\n",
        "print(mi_lista_doble)\n",
        "mi_lista_filtrada = list(filter(lambda x: x % 2 == 0, mi_lista))\n",
        "print(mi_lista_filtrada)\n"
      ]
    }
  ],
  "metadata": {
    "kernelspec": {
      "display_name": "Python 3",
      "language": "python",
      "name": "python3"
    },
    "language_info": {
      "codemirror_mode": {
        "name": "ipython",
        "version": 3
      },
      "file_extension": ".py",
      "mimetype": "text/x-python",
      "name": "python",
      "nbconvert_exporter": "python",
      "pygments_lexer": "ipython3",
      "version": "3.8.5"
    }
  },
  "nbformat": 4,
  "nbformat_minor": 4
}