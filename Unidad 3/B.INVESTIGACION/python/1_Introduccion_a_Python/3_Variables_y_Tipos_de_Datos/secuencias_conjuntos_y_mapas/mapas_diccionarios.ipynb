{
  "cells": [
    {
      "cell_type": "markdown",
      "metadata": {},
      "source": [
        "# Mapas (Diccionarios)\n",
        "\n",
        "En este notebook, aprenderás sobre los diccionarios en Python, incluyendo cómo explorar y actualizar valores, y trabajar con objetos de tipo vista.\n",
        "\n",
        "## Explorar Valores\n",
        "Puedes explorar los valores en un diccionario usando varias técnicas.\n"
      ]
    },
    {
      "cell_type": "code",
      "metadata": {},
      "source": [
        "# Ejemplo de explorar valores\n",
        "mi_dict = {'a': 1, 'b': 2, 'c': 3}\n",
        "print(mi_dict.keys())  # Llaves\n",
        "print(mi_dict.values())  # Valores\n",
        "print(mi_dict.items())  # Pares llave-valor\n"
      ]
    },
    {
      "cell_type": "markdown",
      "metadata": {},
      "source": [
        "## Actualizar Valores\n",
        "Puedes actualizar los valores en un diccionario usando varias técnicas.\n"
      ]
    },
    {
      "cell_type": "code",
      "metadata": {},
      "source": [
        "# Ejemplo de actualizar valores\n",
        "mi_dict = {'a': 1, 'b': 2, 'c': 3}\n",
        "mi_dict['a'] = 10\n",
        "mi_dict.update({'b': 20, 'd': 4})\n",
        "print(mi_dict)\n"
      ]
    },
    {
      "cell_type": "markdown",
      "metadata": {},
      "source": [
        "## Objetos de Tipo Vista\n",
        "Los diccionarios proporcionan vistas de objetos para llaves, valores y elementos.\n"
      ]
    },
    {
      "cell_type": "code",
      "metadata": {},
      "source": [
        "# Ejemplo de objetos de tipo vista\n",
        "mi_dict = {'a': 1, 'b': 2, 'c': 3}\n",
        "llaves = mi_dict.keys()\n",
        "valores = mi_dict.values()\n",
        "items = mi_dict.items()\n",
        "print(llaves)\n",
        "print(valores)\n",
        "print(items)\n"
      ]
    }
  ],
  "metadata": {
    "kernelspec": {
      "display_name": "Python 3",
      "language": "python",
      "name": "python3"
    },
    "language_info": {
      "codemirror_mode": {
        "name": "ipython",
        "version": 3
      },
      "file_extension": ".py",
      "mimetype": "text/x-python",
      "name": "python",
      "nbconvert_exporter": "python",
      "pygments_lexer": "ipython3",
      "version": "3.8.5"
    }
  },
  "nbformat": 4,
  "nbformat_minor": 4
}