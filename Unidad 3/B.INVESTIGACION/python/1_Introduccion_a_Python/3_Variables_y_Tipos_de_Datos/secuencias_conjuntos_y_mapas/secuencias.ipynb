{
    "cells": [
     {
      "cell_type": "markdown",
      "metadata": {},
      "source": [
       "# Secuencias\n",
       "\n",
       "En este notebook, aprenderás sobre las secuencias en Python, incluyendo listas, tuplas, rangos, selección de subsecuencias (slices) y operaciones predefinidas para secuencias.\n",
       "\n",
       "## Listas\n",
       "Las listas son colecciones ordenadas de elementos que son mutables.\n"
      ]
     },
     {
      "cell_type": "code",
      "metadata": {},
      "source": [
       "# Ejemplo de lista\n",
       "mi_lista = [1, 2, 3, 4, 5]\n",
       "print(mi_lista)\n"
      ]
     },
     {
      "cell_type": "markdown",
      "metadata": {},
      "source": [
       "## Tuplas\n",
       "Las tuplas son colecciones ordenadas de elementos que son inmutables.\n"
      ]
     },
     {
      "cell_type": "code",
      "metadata": {},
      "source": [
       "# Ejemplo de tupla\n",
       "mi_tupla = (1, 2, 3, 4, 5)\n",
       "print(mi_tupla)\n"
      ]
     },
     {
      "cell_type": "markdown",
      "metadata": {},
      "source": [
       "## Rangos\n",
       "Los rangos son secuencias inmutables de números enteros.\n"
      ]
     },
     {
      "cell_type": "code",
      "metadata": {},
      "source": [
       "# Ejemplo de rango\n",
       "mi_rango = range(1, 6)\n",
       "print(list(mi_rango))\n"
      ]
     },
     {
      "cell_type": "markdown",
      "metadata": {},
      "source": [
       "## Selección de Subsecuencias (Slices)\n",
       "Puedes seleccionar subsecuencias de listas, tuplas y cadenas usando slices.\n"
      ]
     },
     {
      "cell_type": "code",
      "metadata": {},
      "source": [
       "# Ejemplo de slices\n",
       "mi_lista = [1, 2, 3, 4, 5]\n",
       "print(mi_lista[1:4])\n"
      ]
     },
     {
      "cell_type": "markdown",
      "metadata": {},
      "source": [
       "## Operaciones Predefinidas para Secuencias\n",
       "Puedes realizar varias operaciones predefinidas en secuencias, como encontrar la longitud, el máximo, el mínimo, etc.\n"
      ]
     },
     {
      "cell_type": "code",
      "metadata": {},
      "source": [
       "# Ejemplo de operaciones predefinidas\n",
       "mi_lista = [1, 2, 3, 4, 5]\n",
       "print(len(mi_lista))  # Longitud\n",
       "print(max(mi_lista))  # Máximo\n",
       "print(min(mi_lista))  # Mínimo\n"
      ]
     }
    ],
    "metadata": {
     "kernelspec": {
      "display_name": "Python 3",
      "language": "python",
      "name": "python3"
     },
     "language_info": {
      "codemirror_mode": {
       "name": "ipython",
       "version": 3
      },
      "file_extension": ".py",
      "mimetype": "text/x-python",
      "name": "python",
      "nbconvert_exporter": "python",
      "pygments_lexer": "ipython3",
      "version": "3.8.5"
     }
    },
    "nbformat": 4,
    "nbformat_minor": 4
   }