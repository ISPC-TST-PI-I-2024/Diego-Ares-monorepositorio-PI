{
  "cells": [
    {
      "cell_type": "markdown",
      "metadata": {},
      "source": [
        "# Secuencias de Caracteres\n",
        "\n",
        "En este notebook, aprenderás sobre las secuencias de caracteres en Python, incluyendo cadenas, conversión de caracteres a números y viceversa, y varias operaciones de manipulación de cadenas.\n",
        "\n",
        "## Cadenas\n",
        "Las cadenas son secuencias inmutables de caracteres.\n"
      ]
    },
    {
      "cell_type": "code",
      "metadata": {},
      "source": [
        "# Ejemplo de cadena\n",
        "mi_cadena = \"Hola, mundo\"\n",
        "print(mi_cadena)\n"
      ]
    },
    {
      "cell_type": "markdown",
      "metadata": {},
      "source": [
        "## Caracter a Número y Viceversa\n",
        "Puedes convertir caracteres a sus valores numéricos y viceversa usando las funciones `ord()` y `chr()`.\n"
      ]
    },
    {
      "cell_type": "code",
      "metadata": {},
      "source": [
        "# Ejemplo de conversión de caracter a número y viceversa\n",
        "print(ord('A'))  # De caracter a número\n",
        "print(chr(65))  # De número a caracter\n"
      ]
    },
    {
      "cell_type": "markdown",
      "metadata": {},
      "source": [
        "## Búsqueda y Tamaño\n",
        "Puedes buscar subcadenas dentro de una cadena y encontrar el tamaño de una cadena.\n"
      ]
    },
    {
      "cell_type": "code",
      "metadata": {},
      "source": [
        "# Ejemplo de búsqueda y tamaño\n",
        "mi_cadena = \"Hola, mundo\"\n",
        "print(mi_cadena.find('mundo'))  # Búsqueda\n",
        "print(len(mi_cadena))  # Tamaño\n"
      ]
    },
    {
      "cell_type": "markdown",
      "metadata": {},
      "source": [
        "## Identificación, Codificación, Traducciones y Reemplazos\n",
        "Puedes identificar caracteres, codificar cadenas, traducir y reemplazar caracteres en una cadena.\n"
      ]
    },
    {
      "cell_type": "code",
      "metadata": {},
      "source": [
        "# Ejemplo de identificación y reemplazo\n",
        "mi_cadena = \"Hola, mundo\"\n",
        "print(mi_cadena.isalpha())  # Identificación\n",
        "print(mi_cadena.replace('mundo', 'Python'))  # Reemplazo\n"
      ]
    },
    {
      "cell_type": "markdown",
      "metadata": {},
      "source": [
        "## Funciones de Manipulación\n",
        "Existen varias funciones para manipular cadenas, como `upper()`, `lower()`, `strip()`, etc.\n"
      ]
    },
    {
      "cell_type": "code",
      "metadata": {},
      "source": [
        "# Ejemplo de funciones de manipulación\n",
        "mi_cadena = \" Hola, Mundo \"\n",
        "print(mi_cadena.upper())  # Convertir a mayúsculas\n",
        "print(mi_cadena.lower())  # Convertir a minúsculas\n",
        "print(mi_cadena.strip())  # Quitar espacios en blanco\n"
      ]
    },
    {
      "cell_type": "markdown",
      "metadata": {},
      "source": [
        "## Justificado y Alineación\n",
        "Puedes justificar y alinear cadenas usando `center()`, `ljust()`, `rjust()`, etc.\n"
      ]
    },
    {
      "cell_type": "code",
      "metadata": {},
      "source": [
        "# Ejemplo de justificado y alineación\n",
        "mi_cadena = \"Hola\"\n",
        "print(mi_cadena.center(10, '-'))  # Centrar\n",
        "print(mi_cadena.ljust(10, '-'))  # Alinear a la izquierda\n",
        "print(mi_cadena.rjust(10, '-'))  # Alinear a la derecha\n"
      ]
    },
    {
      "cell_type": "markdown",
      "metadata": {},
      "source": [
        "## Formatear Cadenas\n",
        "Puedes formatear cadenas usando el método `format()` y las f-strings.\n"
      ]
    },
    {
      "cell_type": "code",
      "metadata": {},
      "source": [
        "# Ejemplo de formatear cadenas\n",
        "nombre = \"Juan\"\n",
        "edad = 30\n",
        "print(\"Mi nombre es {} y tengo {} años\".format(nombre, edad))  # Método format\n",
        "print(f\"Mi nombre es {nombre} y tengo {edad} años\")  # f-string\n"
      ]
    },
    {
      "cell_type": "markdown",
      "metadata": {},
      "source": [
        "## Subtipos y Minilenguaje String\n",
        "Puedes usar subtipos y minilenguaje string para formatear cadenas de manera más compleja.\n"
      ]
    },
    {
      "cell_type": "code",
      "metadata": {},
      "source": [
        "# Ejemplo de subtipos y minilenguaje string\n",
        "numero = 123.456\n",
        "print(f\"{numero:.2f}\")  # Formatear número a dos decimales\n"
      ]
    },
    {
      "cell_type": "markdown",
      "metadata": {},
      "source": [
        "## Imprimir Caracteres con print\n",
        "Puedes imprimir caracteres y secuencias de caracteres usando la función `print()`.\n"
      ]
    },
    {
      "cell_type": "code",
      "metadata": {},
      "source": [
        "# Ejemplo de imprimir caracteres\n",
        "print(\"Hola, mundo!\")\n",
        "print('A', 'B', 'C', sep='-')  # Separador\n",
        "print('Hola', end=' ')  # Fin de línea\n",
        "print('Mundo')\n"
      ]
    }
  ],
  "metadata": {
    "kernelspec": {
      "display_name": "Python 3",
      "language": "python",
      "name": "python3"
    },
    "language_info": {
      "codemirror_mode": {
        "name": "ipython",
        "version": 3
      },
      "file_extension": ".py",
      "mimetype": "text/x-python",
      "name": "python",
      "nbconvert_exporter": "python",
      "pygments_lexer": "ipython3",
      "version": "3.8.5"
    }
  },
  "nbformat": 4,
  "nbformat_minor": 4
}
