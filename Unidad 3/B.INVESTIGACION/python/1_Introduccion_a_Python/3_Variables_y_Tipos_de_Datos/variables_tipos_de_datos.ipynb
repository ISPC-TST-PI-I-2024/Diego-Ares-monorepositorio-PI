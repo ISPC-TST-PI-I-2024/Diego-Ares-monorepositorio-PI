{
 "cells": [
  {
   "cell_type": "markdown",
   "metadata": {},
   "source": [
    "# Variables y Tipos de Datos\n",
    "\n",
    "En este notebook, aprenderás cómo declarar y usar variables en Python, así como sobre los diferentes tipos de datos disponibles.\n"
   ]
  },
  {
   "cell_type": "markdown",
   "metadata": {},
   "source": [
    "## Declaración de Variables\n",
    "\n",
    "En Python, no es necesario declarar explícitamente el tipo de una variable. El tipo se determina automáticamente cuando se le asigna un valor.\n"
   ]
  },
  {
   "cell_type": "code",
   "execution_count": null,
   "metadata": {},
   "outputs": [],
   "source": [
    "# Declaración de variables\n",
    "mi_variable = 10  # Entero\n",
    "print(mi_variable)\n",
    "mi_variable = \"Hola\"  # Cadena\n",
    "print(mi_variable)\n",
    "mi_variable = 3.14  # Flotante\n",
    "print(mi_variable)\n",
    "mi_variable = True  # Booleano\n",
    "print(mi_variable)\n"
   ]
  },
  {
   "cell_type": "markdown",
   "metadata": {},
   "source": [
    "## Tipos de Datos\n",
    "\n",
    "Los tipos de datos básicos en Python incluyen:\n",
    "\n",
    "- Enteros (`int`): Números enteros.\n",
    "- Flotantes (`float`): Números con punto decimal.\n",
    "- Cadenas (`str`): Texto.\n",
    "- Booleanos (`bool`): Valores de verdad (`True` o `False`).\n"
   ]
  },
  {
   "cell_type": "code",
   "execution_count": null,
   "metadata": {},
   "outputs": [],
   "source": [
    "# Ejemplos de tipos de datos\n",
    "entero = 10\n",
    "flotante = 20.5\n",
    "cadena = \"Hola, mundo\"\n",
    "booleano = True\n",
    "print(entero, type(entero))\n",
    "print(flotante, type(flotante))\n",
    "print(cadena, type(cadena))\n",
    "print(booleano, type(booleano))\n"
   ]
  },
  {
   "cell_type": "markdown",
   "metadata": {},
   "source": [
    "## Conversión de Tipos\n",
    "\n",
    "Puedes convertir entre tipos de datos utilizando las funciones `int()`, `float()`, `str()`, etc.\n"
   ]
  },
  {
   "cell_type": "code",
   "execution_count": null,
   "metadata": {},
   "outputs": [],
   "source": [
    "# Ejemplos de conversión de tipos\n",
    "entero = int(20.5)  # Convertir flotante a entero\n",
    "flotante = float(10)  # Convertir entero a flotante\n",
    "cadena = str(10)  # Convertir entero a cadena\n",
    "booleano = bool(1)  # Convertir entero a booleano\n",
    "print(entero, type(entero))\n",
    "print(flotante, type(flotante))\n",
    "print(cadena, type(cadena))\n",
    "print(booleano, type(booleano))\n"
   ]
  },
  {
   "cell_type": "markdown",
   "metadata": {},
   "source": [
    "## Operaciones con Variables\n",
    "\n",
    "Puedes realizar operaciones con variables utilizando operadores aritméticos, de comparación, lógicos, etc.\n"
   ]
  },
  {
   "cell_type": "code",
   "execution_count": null,
   "metadata": {},
   "outputs": [],
   "source": [
    "# Ejemplos de operaciones con variables\n",
    "a = 10\n",
    "b = 5\n",
    "\n",
    "# Operaciones aritméticas\n",
    "suma = a + b\n",
    "resta = a - b\n",
    "multiplicacion = a * b\n",
    "division = a / b\n",
    "print(f\"Suma: {suma}\")\n",
    "print(f\"Resta: {resta}\")\n",
    "print(f\"Multiplicación: {multiplicacion}\")\n",
    "print(f\"División: {division}\")\n",
    "\n",
    "# Operaciones de comparación\n",
    "igual = (a == b)\n",
    "diferente = (a != b)\n",
    "mayor_que = (a > b)\n",
    "menor_que = (a < b)\n",
    "print(f\"Igual: {igual}\")\n",
    "print(f\"Diferente: {diferente}\")\n",
    "print(f\"Mayor que: {mayor_que}\")\n",
    "print(f\"Menor que: {menor_que}\")\n",
    "\n",
    "# Operaciones lógicas\n",
    "y = (a > 5 and b < 10)\n",
    "o = (a > 5 or b > 10)\n",
    "no = not (a > 5)\n",
    "print(f\"Y: {y}\")\n",
    "print(f\"O: {o}\")\n",
    "print(f\"No: {no}\")\n"
   ]
  },
  {
   "cell_type": "markdown",
   "metadata": {},
   "source": [
    "## Ejercicios\n"
   ]
  },
  {
   "cell_type": "markdown",
   "metadata": {},
   "source": [
    "### Ejercicio 1: Declaración de Variables\n",
    "\n",
    "Declara una variable de cada tipo de dato (entero, flotante, cadena y booleano) y muestra sus valores.\n"
   ]
  },
  {
   "cell_type": "code",
   "execution_count": null,
   "metadata": {},
   "outputs": [],
   "source": [
    "# Inserta tu código aquí"
   ]
  },
  {
   "cell_type": "markdown",
   "metadata": {},
   "source": [
    "### Ejercicio 2: Conversión de Tipos\n",
    "\n",
    "Convierte un número flotante a entero y muestra el resultado.\n"
   ]
  },
  {
   "cell_type": "code",
   "execution_count": null,
   "metadata": {},
   "outputs": [],
   "source": [
    "# Inserta tu código aquí"
   ]
  },
  {
   "cell_type": "markdown",
   "metadata": {},
   "source": [
    "### Ejercicio 3: Interacción con el Usuario\n",
    "\n",
    "Escribe un programa que solicite al usuario ingresar su nombre y edad, y luego imprima un mensaje que incluya ambos datos.\n"
   ]
  },
  {
   "cell_type": "code",
   "execution_count": null,
   "metadata": {},
   "outputs": [],
   "source": [
    "# Inserta tu código aquí"
   ]
  },
  {
   "cell_type": "markdown",
   "metadata": {},
   "source": [
    "### Ejercicio 4: Evaluación de Condiciones\n",
    "\n",
    "Escribe un programa que evalúe si un número ingresado por el usuario es mayor que 10 y menor que 20.\n"
   ]
  },
  {
   "cell_type": "code",
   "execution_count": null,
   "metadata": {},
   "outputs": [],
   "source": [
    "# Inserta tu código aquí"
   ]
  },
  {
   "cell_type": "markdown",
   "metadata": {},
   "source": [
    "## Soluciones\n",
    "\n",
    "### Solución al Ejercicio 1: Declaración de Variables\n",
    "\n",
    "```python\n",
    "entero = 10\n",
    "flotante = 20.5\n",
    "cadena = \"Hola\"\n",
    "booleano = True\n",
    "print(entero, flotante, cadena, booleano)\n",
    "```\n",
    "\n",
    "### Solución al Ejercicio 2: Conversión de Tipos\n",
    "\n",
    "```python\n",
    "flotante = 10.5\n",
    "entero = int(flotante)\n",
    "print(entero)\n",
    "```\n",
    "\n",
    "### Solución al Ejercicio 3: Interacción con el Usuario\n",
    "\n",
    "```python\n",
    "nombre = input(\"Ingresa tu nombre: \")\n",
    "edad = int(input(\"Ingresa tu edad: \"))\n",
    "print(f\"Hola {nombre}, tienes {edad} años.\")\n",
    "```\n",
    "\n",
    "### Solución al Ejercicio 4: Evaluación de Condiciones\n",
    "\n",
    "```python\n",
    "numero = int(input(\"Ingresa un número: \"))\n",
    "if 10 < numero < 20:\n",
    "    print(\"El número está entre 10 y 20.\")\n",
    "else:\n",
    "    print(\"El número no está entre 10 y 20.\")\n",
    "```\n",
    "\n",
    "¡Buen trabajo completando estos ejercicios sobre variables y tipos de datos en Python!"
   ]
  }
 ],
 "metadata": {
  "kernelspec": {
   "display_name": "Python 3",
   "language": "python",
   "name": "python3"
  },
  "language_info": {
   "codemirror_mode": {
    "name": "ipython",
    "version": 3
   },
   "file_extension": ".py",
   "mimetype": "text/x-python",
   "name": "python",
   "nbconvert_exporter": "python",
   "pygments_lexer": "ipython3",
   "version": "3.8.5"
  }
 },
 "nbformat": 4,
 "nbformat_minor": 4
}
