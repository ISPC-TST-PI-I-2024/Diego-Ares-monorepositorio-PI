{
  "cells": [
    {
      "cell_type": "markdown",
      "metadata": {},
      "source": [
        "# Manejo de Excepciones\n",
        "\n",
        "En este notebook, aprenderás cómo manejar excepciones en Python.\n"
      ]
    },
    {
      "cell_type": "markdown",
      "metadata": {},
      "source": [
        "## Introducción a las Excepciones\n",
        "\n",
        "Las excepciones son errores que ocurren durante la ejecución de un programa. En Python, se manejan utilizando bloques `try-except`.\n"
      ]
    },
    {
      "cell_type": "code",
      "metadata": {},
      "outputs": [],
      "source": [
        "# Ejemplo de manejo de excepciones\n",
        "try:\n",
        "    # Código que puede causar una excepción\n",
        "    x = 1 / 0\n",
        "except ZeroDivisionError:\n",
        "    # Código que se ejecuta si ocurre una excepción\n",
        "    print(\"No se puede dividir por cero\")\n"
      ]
    },
    {
      "cell_type": "markdown",
      "metadata": {},
      "source": [
        "## Bloques try-except\n",
        "\n",
        "Puedes usar múltiples cláusulas `except` para manejar diferentes tipos de excepciones.\n"
      ]
    },
    {
      "cell_type": "code",
      "metadata": {},
      "outputs": [],
      "source": [
        "# Ejemplo de múltiples cláusulas except\n",
        "try:\n",
        "    x = int(\"hola\")\n",
        "except ValueError:\n",
        "    print(\"No se puede convertir una cadena a entero\")\n"
      ]
    },
    {
      "cell_type": "markdown",
      "metadata": {},
      "source": [
        "## Cláusula else y finally\n",
        "\n",
        "La cláusula `else` se ejecuta si no ocurre ninguna excepción. La cláusula `finally` se ejecuta siempre, ocurra o no una excepción.\n"
      ]
    },
    {
      "cell_type": "code",
      "metadata": {},
      "outputs": [],
      "source": [
        "# Ejemplo de else y finally\n",
        "try:\n",
        "    x = 1 / 1\n",
        "except ZeroDivisionError:\n",
        "    print(\"No se puede dividir por cero\")\n",
        "else:\n",
        "    print(\"La división fue exitosa\")\n",
        "finally:\n",
        "    print(\"Esto se ejecuta siempre\")\n"
      ]
    },
    {
      "cell_type": "markdown",
      "metadata": {},
      "source": [
        "## Levantando Excepciones\n",
        "\n",
        "Puedes usar la palabra clave `raise` para levantar una excepción.\n"
      ]
    },
    {
      "cell_type": "code",
      "metadata": {},
      "outputs": [],
      "source": [
        "# Ejemplo de levantar excepciones\n",
        "def verificar_edad(edad):\n",
        "    if edad < 18:\n",
        "        raise ValueError(\"La edad debe ser mayor o igual a 18\")\n",
        "    return True\n",
        "\n",
        "try:\n",
        "    verificar_edad(17)\n",
        "except ValueError as e:\n",
        "    print(e)\n"
      ]
    },
    {
      "cell_type": "markdown",
      "metadata": {},
      "source": [
        "## Excepciones Personalizadas\n",
        "\n",
        "Puedes definir tus propias excepciones personalizadas heredando de la clase `Exception`.\n"
      ]
    },
    {
      "cell_type": "code",
      "metadata": {},
      "outputs": [],
      "source": [
        "# Ejemplo de excepciones personalizadas\n",
        "class EdadInvalidaError(Exception):\n",
        "    pass\n",
        "\n",
        "def verificar_edad(edad):\n",
        "    if edad < 18:\n",
        "        raise EdadInvalidaError(\"La edad debe ser mayor o igual a 18\")\n",
        "    return True\n",
        "\n",
        "try:\n",
        "    verificar_edad(17)\n",
        "except EdadInvalidaError as e:\n",
        "    print(e)\n"
      ]
    },
    {
      "cell_type": "markdown",
      "metadata": {},
      "source": ["## Ejercicios\n"]
    },
    {
      "cell_type": "markdown",
      "metadata": {},
      "source": [
        "### Ejercicio 1: División por Cero\n",
        "\n",
        "Escribe un programa que solicite al usuario ingresar dos números y maneje la excepción de división por cero.\n"
      ]
    },
    {
      "cell_type": "code",
      "metadata": {},
      "outputs": [],
      "source": ["# Inserta tu código aquí\n"]
    },
    {
      "cell_type": "markdown",
      "metadata": {},
      "source": [
        "### Ejercicio 2: Conversión de Cadena a Entero\n",
        "\n",
        "Escribe un programa que convierta una cadena a entero y maneje la excepción correspondiente si la conversión falla.\n"
      ]
    },
    {
      "cell_type": "code",
      "metadata": {},
      "outputs": [],
      "source": ["# Inserta tu código aquí\n"]
    },
    {
      "cell_type": "markdown",
      "metadata": {},
      "source": [
        "### Ejercicio 3: Levantar Excepciones\n",
        "\n",
        "Crea una función que levante una excepción si un número ingresado no está en el rango de 1 a 10.\n"
      ]
    },
    {
      "cell_type": "code",
      "metadata": {},
      "outputs": [],
      "source": ["# Inserta tu código aquí\n"]
    },
    {
      "cell_type": "markdown",
      "metadata": {},
      "source": [
        "### Ejercicio 4: Excepciones Personalizadas\n",
        "\n",
        "Define una excepción personalizada y úsala en una función para validar la entrada del usuario.\n"
      ]
    },
    {
      "cell_type": "code",
      "metadata": {},
      "outputs": [],
      "source": ["# Inserta tu código aquí\n"]
    },
    {
      "cell_type": "markdown",
      "metadata": {},
      "source": [
        "## Soluciones\n",
        "\n",
        "### Solución al Ejercicio 1: División por Cero\n",
        "\n",
        "```python\n",
        "try:\n",
        "    num1 = float(input(\"Ingresa el primer número: \"))\n",
        "    num2 = float(input(\"Ingresa el segundo número: \"))\n",
        "    resultado = num1 / num2\n",
        "    print(f\"El resultado de la división es {resultado}\")\n",
        "except ZeroDivisionError:\n",
        "    print(\"Error: No se puede dividir por cero\")\n",
        "```\n",
        "\n",
        "### Solución al Ejercicio 2: Conversión de Cadena a Entero\n",
        "\n",
        "```python\n",
        "try:\n",
        "    cadena = input(\"Ingresa una cadena que represente un número entero: \")\n",
        "    numero = int(cadena)\n",
        "    print(f\"El número entero es {numero}\")\n",
        "except ValueError:\n",
        "    print(\"Error: No se puede convertir la cadena a un número entero\")\n",
        "```\n",
        "\n",
        "### Solución al Ejercicio 3: Levantar Excepciones\n",
        "\n",
        "```python\n",
        "def verificar_numero(numero):\n",
        "    if not (1 <= numero <= 10):\n",
        "        raise ValueError(\"El número debe estar en el rango de 1 a 10\")\n",
        "    return True\n",
        "\n",
        "try:\n",
        "    numero = int(input(\"Ingresa un número: \"))\n",
        "    verificar_numero(numero)\n",
        "    print(\"El número está en el rango permitido\")\n",
        "except ValueError as e:\n",
        "    print(e)\n",
        "```\n",
        "\n",
        "### Solución al Ejercicio 4: Excepciones Personalizadas\n",
        "\n",
        "```python\n",
        "class NumeroFueraDeRangoError(Exception):\n",
        "    pass\n",
        "\n",
        "def verificar_numero(numero):\n",
        "    if not (1 <= numero <= 10):\n",
        "        raise NumeroFueraDeRangoError(\"El número debe estar en el rango de 1 a 10\")\n",
        "    return True\n",
        "\n",
        "try:\n",
        "    numero = int(input(\"Ingresa un número: \"))\n",
        "    verificar_numero(numero)\n",
        "    print(\"El número está en el rango permitido\")\n",
        "except NumeroFueraDeRangoError as e:\n",
        "    print(e)\n",
        "```\n",
        "\n",
        "¡Buen trabajo completando estos ejercicios sobre el manejo de excepciones en Python!"
      ]
    }
  ],
  "metadata": {
    "kernelspec": {
      "display_name": "Python 3",
      "language": "python",
      "name": "python3"
    },
    "language_info": {
      "codemirror_mode": {
        "name": "ipython",
        "version": 3
      },
      "file_extension": ".py",
      "mimetype": "text/x-python",
      "name": "python",
      "nbconvert_exporter": "python",
      "pygments_lexer": "ipython3",
      "version": "3.8.5"
    }
  },
  "nbformat": 4,
  "nbformat_minor": 4
}