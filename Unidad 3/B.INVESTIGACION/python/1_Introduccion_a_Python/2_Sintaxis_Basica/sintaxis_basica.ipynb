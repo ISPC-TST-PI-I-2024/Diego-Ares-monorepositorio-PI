{
  "cells": [
    {
      "cell_type": "markdown",
      "metadata": {},
      "source": [
        "# Sintaxis Básica\n",
        "\n",
        "En este notebook, aprenderás la sintaxis básica de Python, incluyendo comentarios, variables, operadores, estructuras de control, y funciones.\n",
        "\n",
        "## Comentarios\n",
        "\n",
        "Los comentarios se usan para explicar el código y son ignorados por el intérprete de Python.\n",
        "\n",
        "### Comentarios de una línea\n",
        "Comienzan con `#`.\n",
        "\n",
        "```python\n",
        "# Esto es un comentario de una sola línea\n",
        "```\n",
        "\n",
        "### Comentarios de múltiples líneas\n",
        "Se delimitan con `\"\"\"` o `'''`.\n",
        "\n",
        "```python\n",
        "\"\"\"\n",
        "Esto es un comentario\n",
        "de múltiples líneas\n",
        "\"\"\"\n",
        "```\n",
        "\n",
        "## Variables y Tipos de Datos\n",
        "\n",
        "Las variables se utilizan para almacenar información. Los tipos de datos comunes en Python incluyen enteros, flotantes, cadenas y booleanos.\n",
        "\n",
        "```python\n",
        "entero = 10\n",
        "flotante = 20.5\n",
        "cadena = \"Hola, mundo\"\n",
        "booleano = True\n",
        "```\n",
        "\n",
        "## Operadores\n",
        "\n",
        "Los operadores se utilizan para realizar operaciones en variables y valores.\n",
        "\n",
        "### Operadores aritméticos\n",
        "\n",
        "```python\n",
        "# Operadores aritméticos\n",
        "suma = 5 + 3\n",
        "resta = 5 - 3\n",
        "multiplicacion = 5 * 3\n",
        "division = 5 / 3\n",
        "modulo = 5 % 3\n",
        "exponente = 5 ** 3\n",
        "division_entera = 5 // 3\n",
        "```\n",
        "\n",
        "### Operadores de comparación\n",
        "\n",
        "```python\n",
        "# Operadores de comparación\n",
        "igual = (5 == 3)\n",
        "diferente = (5 != 3)\n",
        "mayor_que = (5 > 3)\n",
        "menor_que = (5 < 3)\n",
        "mayor_o_igual = (5 >= 3)\n",
        "menor_o_igual = (5 <= 3)\n",
        "```\n",
        "\n",
        "### Operadores lógicos\n",
        "\n",
        "```python\n",
        "# Operadores lógicos\n",
        "y = (5 > 3 and 2 < 4)\n",
        "o = (5 > 3 or 2 > 4)\n",
        "no = not (5 > 3)\n",
        "```\n",
        "\n",
        "## Estructuras de Control\n",
        "\n",
        "Las estructuras de control se utilizan para decidir el flujo del programa.\n",
        "\n",
        "### Condicionales\n",
        "\n",
        "```python\n",
        "# Condicional\n",
        "a = 5\n",
        "b = 3\n",
        "\n",
        "if a > b:\n",
        "    print(\"a es mayor que b\")\n",
        "elif a < b:\n",
        "    print(\"a es menor que b\")\n",
        "else:\n",
        "    print(\"a es igual a b\")\n",
        "```\n",
        "\n",
        "### Bucles\n",
        "\n",
        "```python\n",
        "# Bucle for\n",
        "for i in range(5):\n",
        "    print(\"Iteración:\", i)\n",
        "\n",
        "# Bucle while\n",
        "contador = 0\n",
        "while contador < 5:\n",
        "    print(\"Contador:\", contador)\n",
        "    contador += 1\n",
        "```\n",
        "\n",
        "## Funciones\n",
        "\n",
        "Las funciones se utilizan para organizar el código en bloques reutilizables.\n",
        "\n",
        "```python\n",
        "def saludar(nombre):\n",
        "    return f\"Hola, {nombre}\"\n",
        "\n",
        "print(saludar(\"Mundo\"))\n",
        "```"
      ]
    },
    {
      "cell_type": "markdown",
      "metadata": {},
      "source": [
        "## Ejercicios\n"
      ]
    },
    {
      "cell_type": "markdown",
      "metadata": {},
      "source": [
        "### Ejercicio 1: Operadores\n",
        "\n",
        "Escribe un programa que solicite al usuario ingresar dos números y luego imprima la suma, resta, multiplicación y división de esos números."
      ]
    },
    {
      "cell_type": "code",
      "execution_count": null,
      "metadata": {},
      "outputs": [],
      "source": [
        "# Inserta tu codigo aqui"
      ]
    },
    {
      "cell_type": "markdown",
      "metadata": {},
      "source": [
        "### Ejercicio 2: Bucle for\n",
        "\n",
        "Escribe un programa que imprima los números del 1 al 10 utilizando un bucle `for`.\n",
        "\n"
      ]
    },
    {
      "cell_type": "code",
      "execution_count": null,
      "metadata": {},
      "outputs": [],
      "source": [
        "# Inserta tu código aquí"
      ]
    },
    {
      "cell_type": "markdown",
      "metadata": {},
      "source": [
        "### Ejercicio 3: Bucle while\n",
        "\n",
        "Escribe un programa que utilice un bucle `while` para imprimir los números del 10 al 1 en orden descendente.\n",
        "\n"
      ]
    },
    {
      "cell_type": "code",
      "execution_count": null,
      "metadata": {},
      "outputs": [],
      "source": [
        "# Inserta tu código aquí"
      ]
    },
    {
      "cell_type": "markdown",
      "metadata": {},
      "source": [
        "### Ejercicio 4: Funciones\n",
        "\n",
        "Escribe una función que reciba un número como parámetro y devuelva `True` si el número es par, y `False` si es impar.\n",
        "\n"
      ]
    },
    {
      "cell_type": "code",
      "execution_count": null,
      "metadata": {},
      "outputs": [],
      "source": [
        "# Inserta tu código aquí"
      ]
    },
    {
      "cell_type": "markdown",
      "metadata": {},
      "source": [
        "## Soluciones\n",
        "\n",
        "### Solución al Ejercicio 1: Operadores\n",
        "\n",
        "```python\n",
        "num1 = float(input(\"Ingresa el primer número: \"))\n",
        "num2 = float(input(\"Ingresa el segundo número: \"))\n",
        "\n",
        "suma = num1 + num2\n",
        "resta = num1 - num2\n",
        "multiplicacion = num1 * num2\n",
        "division = num1 / num2\n",
        "\n",
        "print(f\"Suma: {suma}\")\n",
        "print(f\"Resta: {resta}\")\n",
        "print(f\"Multiplicación: {multiplicacion}\")\n",
        "print(f\"División: {division}\")\n",
        "```\n",
        "\n",
        "### Solución al Ejercicio 2: Bucle for\n",
        "\n",
        "```python\n",
        "for i in range(1, 11):\n",
        "    print(i)\n",
        "```\n",
        "\n",
        "### Solución al Ejercicio 3: Bucle while\n",
        "\n",
        "```python\n",
        "contador = 10\n",
        "while contador > 0:\n",
        "    print(contador)\n",
        "    contador -= 1\n",
        "```\n",
        "\n",
        "### Solución al Ejercicio 4: Funciones\n",
        "\n",
        "```python\n",
        "def es_par(numero):\n",
        "    return numero % 2 == 0\n",
        "\n",
        "# Prueba de la función\n",
        "print(es_par(4))  # Debería devolver True\n",
        "print(es_par(7))  # Debería devolver False\n",
        "```\n",
        "\n",
        "¡Buen trabajo completando estos ejercicios sobre la sintaxis básica de Python!"
      ]
    }
  ],
  "metadata": {
    "kernelspec": {
      "display_name": "Python 3",
      "language": "python",
      "name": "python3"
    },
    "language_info": {
      "codemirror_mode": {
        "name": "ipython",
        "version": 3
      },
      "file_extension": ".py",
      "mimetype": "text/x-python",
      "name": "python",
      "nbconvert_exporter": "python",
      "pygments_lexer": "ipython3",
      "version": "3.8.5"
    }
  },
  "nbformat": 4,
  "nbformat_minor": 4
}
