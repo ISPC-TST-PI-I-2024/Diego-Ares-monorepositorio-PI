{
  "cells": [
    {
      "cell_type": "markdown",
      "metadata": {},
      "source": [
        "# Clases y Objetos\n",
        "\n",
        "En este notebook, aprenderás cómo utilizar clases y objetos en Python.\n"
      ]
    },
    {
      "cell_type": "markdown",
      "metadata": {},
      "source": [
        "## Introducción a la Programación Orientada a Objetos\n",
        "\n",
        "La programación orientada a objetos (POO) es un paradigma de programación que utiliza \"objetos\" y sus interacciones para diseñar aplicaciones y programas.\n"
      ]
    },
    {
      "cell_type": "markdown",
      "metadata": {},
      "source": [
        "## Definición de Clases\n",
        "\n",
        "Una clase es un plano para crear objetos. Define un conjunto de atributos y métodos que los objetos creados a partir de la clase pueden utilizar.\n"
      ]
    },
    {
      "cell_type": "code",
      "metadata": {},
      "outputs": [],
      "source": [
        "# Ejemplo de definición de clase\n",
        "class Persona:\n",
        "    def __init__(self, nombre, edad):\n",
        "        self.nombre = nombre\n",
        "        self.edad = edad\n"
      ]
    },
    {
      "cell_type": "markdown",
      "metadata": {},
      "source": [
        "## Creación de Objetos\n",
        "\n",
        "Un objeto es una instancia de una clase.\n"
      ]
    },
    {
      "cell_type": "code",
      "metadata": {},
      "outputs": [],
      "source": [
        "# Ejemplo de creación de objetos\n",
        "persona1 = Persona(\"Alice\", 30)\n",
        "print(persona1.nombre, persona1.edad)\n"
      ]
    },
    {
      "cell_type": "markdown",
      "metadata": {},
      "source": [
        "## Métodos de Instancia\n",
        "\n",
        "Los métodos de instancia son funciones definidas dentro de una clase que operan sobre instancias de esa clase.\n"
      ]
    },
    {
      "cell_type": "code",
      "metadata": {},
      "outputs": [],
      "source": [
        "# Ejemplo de métodos de instancia\n",
        "class Persona:\n",
        "    def __init__(self, nombre, edad):\n",
        "        self.nombre = nombre\n",
        "        self.edad = edad\n",
        "    \n",
        "    def saludar(self):\n",
        "        return f\"Hola, mi nombre es {self.nombre} y tengo {self.edad} años\"\n",
        "    \npersona1 = Persona(\"Alice\", 30)\n",
        "print(persona1.saludar())\n"
      ]
    },
    {
      "cell_type": "markdown",
      "metadata": {},
      "source": [
        "## Atributos de Clase y de Instancia\n",
        "\n",
        "Los atributos de clase son compartidos por todas las instancias de una clase, mientras que los atributos de instancia son únicos para cada instancia.\n"
      ]
    },
    {
      "cell_type": "code",
      "metadata": {},
      "outputs": [],
      "source": [
        "# Ejemplo de atributos de clase y de instancia\n",
        "class Persona:\n",
        "    especie = \"Humano\"  # Atributo de clase\n",
        "    \n",
        "    def __init__(self, nombre, edad):\n",
        "        self.nombre = nombre  # Atributo de instancia\n",
        "        self.edad = edad\n",
        "    \npersona1 = Persona(\"Alice\", 30)\n",
        "persona2 = Persona(\"Bob\", 25)\n",
        "print(persona1.especie, persona1.nombre)\n",
        "print(persona2.especie, persona2.nombre)\n"
      ]
    },
    {
      "cell_type": "markdown",
      "metadata": {},
      "source": [
        "## Métodos Especiales\n",
        "\n",
        "Los métodos especiales, también conocidos como métodos mágicos, son funciones especiales que se definen mediante doble guión bajo al principio y al final del nombre del método. Un ejemplo común es el método `__str__`.\n"
      ]
    },
    {
      "cell_type": "code",
      "metadata": {},
      "outputs": [],
      "source": [
        "# Ejemplo de métodos especiales\n",
        "class Persona:\n",
        "    def __init__(self, nombre, edad):\n",
        "        self.nombre = nombre\n",
        "        self.edad = edad\n",
        "    \n",
        "    def __str__(self):\n",
        "        return f\"{self.nombre}, {self.edad} años\"\n",
        "    \npersona1 = Persona(\"Alice\", 30)\n",
        "print(persona1)\n"
      ]
    },
    {
      "cell_type": "markdown",
      "metadata": {},
      "source": ["## Ejercicios\n"]
    },
    {
      "cell_type": "markdown",
      "metadata": {},
      "source": [
        "### Ejercicio 1: Definición de Clases y Creación de Objetos\n",
        "\n",
        "Define una clase `Coche` con atributos `marca`, `modelo` y `año`. Crea una instancia de `Coche` y muestra sus atributos.\n"
      ]
    },
    {
      "cell_type": "code",
      "metadata": {},
      "outputs": [],
      "source": ["# Inserta tu código aquí\n"]
    },
    {
      "cell_type": "markdown",
      "metadata": {},
      "source": [
        "### Ejercicio 2: Métodos de Instancia\n",
        "\n",
        "Agrega un método `acelerar` a la clase `Coche` que imprima un mensaje indicando que el coche está acelerando.\n"
      ]
    },
    {
      "cell_type": "code",
      "metadata": {},
      "outputs": [],
      "source": ["# Inserta tu código aquí\n"]
    },
    {
      "cell_type": "markdown",
      "metadata": {},
      "source": [
        "### Ejercicio 3: Atributos de Clase y de Instancia\n",
        "\n",
        "Define una clase `Rectangulo` con atributos `largo` y `ancho`, y un método que calcule el área del rectángulo. Crea una instancia de `Rectangulo` y muestra el área.\n"
      ]
    },
    {
      "cell_type": "code",
      "metadata": {},
      "outputs": [],
      "source": ["# Inserta tu código aquí\n"]
    },
    {
      "cell_type": "markdown",
      "metadata": {},
      "source": [
        "### Ejercicio 4: Métodos Especiales\n",
        "\n",
        "Crea una clase `Libro` con atributos de instancia para el título y el autor, y un atributo de clase para contar el número total de libros creados. Implementa un método para mostrar la información del libro.\n"
      ]
    },
    {
      "cell_type": "code",
      "metadata": {},
      "outputs": [],
      "source": ["# Inserta tu código aquí\n"]
    },
    {
      "cell_type": "markdown",
      "metadata": {},
      "source": [
        "## Soluciones\n",
        "\n",
        "### Solución al Ejercicio 1: Definición de Clases y Creación de Objetos\n",
        "\n",
        "```python\n",
        "class Coche:\n",
        "    def __init__(self, marca, modelo, año):\n",
        "        self.marca = marca\n",
        "        self.modelo = modelo\n",
        "        self.año = año\n",
        "    \ncoche1 = Coche(\"Toyota\", \"Corolla\", 2020)\n",
        "print(coche1.marca, coche1.modelo, coche1.año)  # Debería imprimir: Toyota Corolla 2020\n",
        "```\n",
        "\n",
        "### Solución al Ejercicio 2: Métodos de Instancia\n",
        "\n",
        "```python\n",
        "class Coche:\n",
        "    def __init__(self, marca, modelo, año):\n",
        "        self.marca = marca\n",
        "        self.modelo = modelo\n",
        "        self.año = año\n",
        "    \n",
        "    def acelerar(self):\n",
        "        print(f\"El {self.marca} {self.modelo} está acelerando\")\n",
        "    \ncoche1 = Coche(\"Toyota\", \"Corolla\", 2020)\n",
        "coche1.acelerar()  # Debería imprimir: El Toyota Corolla está acelerando\n",
        "```\n",
        "\n",
        "### Solución al Ejercicio 3: Atributos de Clase y de Instancia\n",
        "\n",
        "```python\n",
        "class Rectangulo:\n",
        "    def __init__(self, largo, ancho):\n",
        "        self.largo = largo\n",
        "        self.ancho = ancho\n",
        "    \n",
        "    def area(self):\n",
        "        return self.largo * self.ancho\n",
        "    \n",
        "rectangulo1 = Rectangulo(5, 3)\n",
        "print(rectangulo1.area())  # Debería imprimir: 15\n",
        "```\n",
        "\n",
        "### Solución al Ejercicio 4: Métodos Especiales\n",
        "\n",
        "```python\n",
        "class Libro:\n",
        "    total_libros = 0  # Atributo de clase\n",
        "    \n",
        "    def __init__(self, titulo, autor):\n",
        "        self.titulo = titulo\n",
        "        self.autor = autor\n",
        "        Libro.total_libros += 1\n",
        "    \n",
        "    def mostrar_info(self):\n",
        "        return f\"{self.titulo} por {self.autor}\"\n",
        "    \n",
        "libro1 = Libro(\"1984\", \"George Orwell\")\n",
        "libro2 = Libro(\"Cien Años de Soledad\", \"Gabriel García Márquez\")\n",
        "print(libro1.mostrar_info())  # Debería imprimir: 1984 por George Orwell\n",
        "print(libro2.mostrar_info())  # Debería imprimir: Cien Años de Soledad por Gabriel García Márquez\n",
        "print(Libro.total_libros)  # Debería imprimir: 2\n",
        "```\n",
        "\n",
        "¡Buen trabajo completando estos ejercicios sobre clases y objetos en Python!"
      ]
    }
  ],
  "metadata": {
    "kernelspec": {
      "display_name": "Python 3",
      "language": "python",
      "name": "python3"
    },
    "language_info": {
      "codemirror_mode": {
        "name": "ipython",
        "version": 3
      },
      "file_extension": ".py",
      "mimetype": "text/x-python",
      "name": "python",
      "nbconvert_exporter": "python",
      "pygments_lexer": "ipython3",
      "version": "3.8.5"
    }
  },
  "nbformat": 4,
  "nbformat_minor": 4
}
