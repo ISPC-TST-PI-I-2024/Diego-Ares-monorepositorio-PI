{
  "cells": [
    {
      "cell_type": "markdown",
      "metadata": {},
      "source": [
        "# Herencia y Polimorfismo\n",
        "\n",
        "En este notebook, aprenderás cómo utilizar la herencia y el polimorfismo en Python.\n"
      ]
    },
    {
      "cell_type": "markdown",
      "metadata": {},
      "source": [
        "## Introducción a la Herencia\n",
        "\n",
        "La herencia permite crear una nueva clase a partir de una clase existente. La nueva clase hereda los atributos y métodos de la clase existente.\n"
      ]
    },
    {
      "cell_type": "markdown",
      "metadata": {},
      "source": [
        "## Definición de Clases Base y Derivadas\n",
        "\n",
        "Una clase base es la clase de la que se hereda. Una clase derivada es la nueva clase que hereda de la clase base.\n"
      ]
    },
    {
      "cell_type": "code",
      "metadata": {},
      "outputs": [],
      "source": [
        "# Ejemplo de clases base y derivadas\n",
        "class Animal:\n",
        "    def __init__(self, nombre):\n",
        "        self.nombre = nombre\n",
        "    \n",
        "    def hacer_sonido(self):\n",
        "        raise NotImplementedError(\"Este método debe ser implementado por una subclase\")\n",
        "\n",
        "class Perro(Animal):\n",
        "    def hacer_sonido(self):\n",
        "        return \"Guau\"\n",
        "\n",
        "class Gato(Animal):\n",
        "    def hacer_sonido(self):\n",
        "        return \"Miau\"\n",
        "\n",
        "perro = Perro(\"Firulais\")\n",
        "gato = Gato(\"Misu\")\n",
        "print(perro.nombre, perro.hacer_sonido())\n",
        "print(gato.nombre, gato.hacer_sonido())\n"
      ]
    },
    {
      "cell_type": "markdown",
      "metadata": {},
      "source": [
        "## Sobrescritura de Métodos\n",
        "\n",
        "La sobrescritura de métodos permite que una clase derivada proporcione una implementación específica de un método que ya está definido en su clase base.\n"
      ]
    },
    {
      "cell_type": "code",
      "metadata": {},
      "outputs": [],
      "source": [
        "# Ejemplo de sobrescritura de métodos\n",
        "class Animal:\n",
        "    def __init__(self, nombre):\n",
        "        self.nombre = nombre\n",
        "    \n",
        "    def hacer_sonido(self):\n",
        "        return \"Sonido de animal\"\n",
        "\n",
        "class Perro(Animal):\n",
        "    def hacer_sonido(self):\n",
        "        return \"Guau\"\n",
        "\n",
        "perro = Perro(\"Firulais\")\n",
        "print(perro.nombre, perro.hacer_sonido())\n"
      ]
    },
    {
      "cell_type": "markdown",
      "metadata": {},
      "source": [
        "## Uso de la Función `super()`\n",
        "\n",
        "La función `super()` se utiliza para llamar a un método de la clase base desde una clase derivada.\n"
      ]
    },
    {
      "cell_type": "code",
      "metadata": {},
      "outputs": [],
      "source": [
        "# Ejemplo de uso de super()\n",
        "class Animal:\n",
        "    def __init__(self, nombre):\n",
        "        self.nombre = nombre\n",
        "    \n",
        "    def hacer_sonido(self):\n",
        "        return \"Sonido de animal\"\n",
        "\n",
        "class Perro(Animal):\n",
        "    def __init__(self, nombre, raza):\n",
        "        super().__init__(nombre)\n",
        "        self.raza = raza\n",
        "    \n",
        "    def hacer_sonido(self):\n",
        "        return \"Guau\"\n",
        "\n",
        "perro = Perro(\"Firulais\", \"Labrador\")\n",
        "print(perro.nombre, perro.raza, perro.hacer_sonido())\n"
      ]
    },
    {
      "cell_type": "markdown",
      "metadata": {},
      "source": [
        "## Polimorfismo\n",
        "\n",
        "El polimorfismo permite utilizar una misma interfaz para diferentes tipos de objetos.\n"
      ]
    },
    {
      "cell_type": "code",
      "metadata": {},
      "outputs": [],
      "source": [
        "# Ejemplo de polimorfismo\n",
        "animales = [Perro(\"Firulais\", \"Labrador\"), Gato(\"Misu\")]\n",
        "\n",
        "for animal in animales:\n",
        "    print(animal.nombre, animal.hacer_sonido())\n"
      ]
    },
    {
      "cell_type": "markdown",
      "metadata": {},
      "source": ["## Ejercicios\n"]
    },
    {
      "cell_type": "markdown",
      "metadata": {},
      "source": [
        "### Ejercicio 1: Herencia\n",
        "\n",
        "Define una clase base `Vehiculo` con un método `moverse`. Luego, define dos clases derivadas `Coche` y `Bicicleta` que sobrescriban el método `moverse` con comportamientos específicos.\n"
      ]
    },
    {
      "cell_type": "code",
      "metadata": {},
      "outputs": [],
      "source": ["# Inserta tu código aquí\n"]
    },
    {
      "cell_type": "markdown",
      "metadata": {},
      "source": [
        "### Ejercicio 2: Sobrescritura de Métodos\n",
        "\n",
        "Define una clase base `Empleado` con atributos `nombre` y `salario`, y un método `mostrar_info`. Luego, define dos clases derivadas `Gerente` y `Ingeniero` que sobrescriban el método `mostrar_info` y agreguen un atributo adicional.\n"
      ]
    },
    {
      "cell_type": "code",
      "metadata": {},
      "outputs": [],
      "source": ["# Inserta tu código aquí\n"]
    },
    {
      "cell_type": "markdown",
      "metadata": {},
      "source": [
        "### Ejercicio 3: Polimorfismo\n",
        "\n",
        "Crea una clase base `Forma` con un método `area` que devuelva `0`. Luego, define dos clases derivadas `Rectangulo` y `Circulo` que sobrescriban el método `area` con sus respectivas fórmulas.\n"
      ]
    },
    {
      "cell_type": "code",
      "metadata": {},
      "outputs": [],
      "source": ["# Inserta tu código aquí\n"]
    },
    {
      "cell_type": "markdown",
      "metadata": {},
      "source": [
        "### Ejercicio 4: Uso de Polimorfismo\n",
        "\n",
        "Usa polimorfismo para iterar sobre una lista de objetos `Vehiculo` y llama al método `moverse` en cada objeto.\n"
      ]
    },
    {
      "cell_type": "code",
      "metadata": {},
      "outputs": [],
      "source": ["# Inserta tu código aquí\n"]
    },
    {
      "cell_type": "markdown",
      "metadata": {},
      "source": [
        "## Soluciones\n",
        "\n",
        "### Solución al Ejercicio 1: Herencia\n",
        "\n",
        "```python\n",
        "class Vehiculo:\n",
        "    def moverse(self):\n",
        "        raise NotImplementedError(\"Este método debe ser implementado por una subclase\")\n",
        "\n",
        "class Coche(Vehiculo):\n",
        "    def moverse(self):\n",
        "        return \"El coche está conduciendo\"\n",
        "\n",
        "class Bicicleta(Vehiculo):\n",
        "    def moverse(self):\n",
        "        return \"La bicicleta está pedaleando\"\n",
        "\n",
        "coche = Coche()\n",
        "bicicleta = Bicicleta()\n",
        "print(coche.moverse())  # Debería imprimir: El coche está conduciendo\n",
        "print(bicicleta.moverse())  # Debería imprimir: La bicicleta está pedaleando\n",
        "```\n",
        "\n",
        "### Solución al Ejercicio 2: Sobrescritura de Métodos\n",
        "\n",
        "```python\n",
        "class Empleado:\n",
        "    def __init__(self, nombre, salario):\n",
        "        self.nombre = nombre\n",
        "        self.salario = salario\n",
        "    \n",
        "    def mostrar_info(self):\n",
        "        return f\"Nombre: {self.nombre}, Salario: {self.salario}\"\n",
        "\n",
        "class Gerente(Empleado):\n",
        "    def __init__(self, nombre, salario, departamento):\n",
        "        super().__init__(nombre, salario)\n",
        "        self.departamento = departamento\n",
        "    \n",
        "    def mostrar_info(self):\n",
        "        return f\"Nombre: {self.nombre}, Salario: {self.salario}, Departamento: {self.departamento}\"\n",
        "\n",
        "class Ingeniero(Empleado):\n",
        "    def __init__(self, nombre, salario, especialidad):\n",
        "        super().__init__(nombre, salario)\n",
        "        self.especialidad = especialidad\n",
        "    \n",
        "    def mostrar_info(self):\n",
        "        return f\"Nombre: {self.nombre}, Salario: {self.salario}, Especialidad: {self.especialidad}\"\n",
        "\n",
        "gerente = Gerente(\"Alice\", 70000, \"Ventas\")\n",
        "ingeniero = Ingeniero(\"Bob\", 80000, \"Software\")\n",
        "print(gerente.mostrar_info())  # Debería imprimir: Nombre: Alice, Salario: 70000, Departamento: Ventas\n",
        "print(ingeniero.mostrar_info())  # Debería imprimir: Nombre: Bob, Salario: 80000, Especialidad: Software\n",
        "```\n",
        "\n",
        "### Solución al Ejercicio 3: Polimorfismo\n",
        "\n",
        "```python\n",
        "class Forma:\n",
        "    def area(self):\n",
        "        return 0\n",
        "\n",
        "class Rectangulo(Forma):\n",
        "    def __init__(self, largo, ancho):\n",
        "        self.largo = largo\n",
        "        self.ancho = ancho\n",
        "    \n",
        "    def area(self):\n",
        "        return self.largo * self.ancho\n",
        "\n",
        "class Circulo(Forma):\n",
        "    def __init__(self, radio):\n",
        "        self.radio = radio\n",
        "    \n",
        "    def area(self):\n",
        "        import math\n",
        "        return math.pi * self.radio ** 2\n",
        "\n",
        "rectangulo = Rectangulo(5, 3)\n",
        "circulo = Circulo(4)\n",
        "print(rectangulo.area())  # Debería imprimir: 15\n",
        "print(circulo.area())  # Debería imprimir: 50.26548245743669\n",
        "```\n",
        "\n",
        "### Solución al Ejercicio 4: Uso de Polimorfismo\n",
        "\n",
        "```python\n",
        "class Vehiculo:\n",
        "    def moverse(self):\n",
        "        raise NotImplementedError(\"Este método debe ser implementado por una subclase\")\n",
        "\n",
        "class Coche(Vehiculo):\n",
        "    def moverse(self):\n",
        "        return \"El coche está conduciendo\"\n",
        "\n",
        "class Bicicleta(Vehiculo):\n",
        "    def moverse(self):\n",
        "        return \"La bicicleta está pedaleando\"\n",
        "\n",
        "vehiculos = [Coche(), Bicicleta()]\n",
        "\n",
        "for vehiculo in vehiculos:\n",
        "    print(vehiculo.moverse())\n",
        "```\n",
        "\n",
        "¡Buen trabajo completando estos ejercicios sobre herencia y polimorfismo en Python!"
      ]
    }
  ],
  "metadata": {
    "kernelspec": {
      "display_name": "Python 3",
      "language": "python",
      "name": "python3"
    },
    "language_info": {
      "codemirror_mode": {
        "name": "ipython",
        "version": 3
      },
      "file_extension": ".py",
      "mimetype": "text/x-python",
      "name": "python",
      "nbconvert_exporter": "python",
      "pygments_lexer": "ipython3",
      "version": "3.8.5"
    }
  },
  "nbformat": 4,
  "nbformat_minor": 4
}