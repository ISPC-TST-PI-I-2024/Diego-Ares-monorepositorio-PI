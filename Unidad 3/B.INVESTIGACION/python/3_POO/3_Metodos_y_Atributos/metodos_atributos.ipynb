{
  "cells": [
    {
      "cell_type": "markdown",
      "metadata": {},
      "source": [
        "# Métodos y Atributos\n",
        "\n",
        "En este notebook, aprenderás cómo utilizar métodos y atributos en Python.\n"
      ]
    },
    {
      "cell_type": "markdown",
      "metadata": {},
      "source": [
        "## Métodos de Instancia\n",
        "\n",
        "Los métodos de instancia son funciones definidas dentro de una clase que operan sobre instancias de esa clase.\n"
      ]
    },
    {
      "cell_type": "code",
      "metadata": {},
      "outputs": [],
      "source": [
        "# Ejemplo de métodos de instancia\n",
        "class Persona:\n",
        "    def __init__(self, nombre, edad):\n",
        "        self.nombre = nombre\n",
        "        self.edad = edad\n",
        "    \n",
        "    def saludar(self):\n",
        "        return f\"Hola, mi nombre es {self.nombre} y tengo {self.edad} años\"\n",
        "    \npersona1 = Persona(\"Alice\", 30)\n",
        "print(persona1.saludar())\n"
      ]
    },
    {
      "cell_type": "markdown",
      "metadata": {},
      "source": [
        "## Métodos de Clase\n",
        "\n",
        "Los métodos de clase son métodos que están vinculados a la clase en sí y no a una instancia específica. Se definen utilizando el decorador `@classmethod`.\n"
      ]
    },
    {
      "cell_type": "code",
      "metadata": {},
      "outputs": [],
      "source": [
        "# Ejemplo de métodos de clase\n",
        "class Persona:\n",
        "    numero_personas = 0\n",
        "    \n",
        "    def __init__(self, nombre, edad):\n",
        "        self.nombre = nombre\n",
        "        self.edad = edad\n",
        "        Persona.numero_personas += 1\n",
        "    \n",
        "    @classmethod\n",
        "    def contar_personas(cls):\n",
        "        return f\"Hay {cls.numero_personas} personas\"\n",
        "    \n",
        "print(Persona.contar_personas())\n",
        "persona1 = Persona(\"Alice\", 30)\n",
        "print(Persona.contar_personas())\n"
      ]
    },
    {
      "cell_type": "markdown",
      "metadata": {},
      "source": [
        "## Métodos Estáticos\n",
        "\n",
        "Los métodos estáticos son métodos que no están vinculados ni a la clase ni a las instancias. Se definen utilizando el decorador `@staticmethod`.\n"
      ]
    },
    {
      "cell_type": "code",
      "metadata": {},
      "outputs": [],
      "source": [
        "# Ejemplo de métodos estáticos\n",
        "class Calculadora:\n",
        "    @staticmethod\n",
        "    def sumar(a, b):\n",
        "        return a + b\n",
        "    \n",
        "print(Calculadora.sumar(3, 5))\n"
      ]
    },
    {
      "cell_type": "markdown",
      "metadata": {},
      "source": [
        "## Atributos de Instancia\n",
        "\n",
        "Los atributos de instancia son variables que pertenecen a una instancia específica de una clase.\n"
      ]
    },
    {
      "cell_type": "code",
      "metadata": {},
      "outputs": [],
      "source": [
        "# Ejemplo de atributos de instancia\n",
        "class Persona:\n",
        "    def __init__(self, nombre, edad):\n",
        "        self.nombre = nombre\n",
        "        self.edad = edad\n",
        "    \npersona1 = Persona(\"Alice\", 30)\n",
        "print(persona1.nombre, persona1.edad)\n"
      ]
    },
    {
      "cell_type": "markdown",
      "metadata": {},
      "source": [
        "## Atributos de Clase\n",
        "\n",
        "Los atributos de clase son variables que pertenecen a la clase en sí y son compartidos por todas las instancias de la clase.\n"
      ]
    },
    {
      "cell_type": "code",
      "metadata": {},
      "outputs": [],
      "source": [
        "# Ejemplo de atributos de clase\n",
        "class Persona:\n",
        "    especie = \"Humano\"\n",
        "    \n",
        "    def __init__(self, nombre, edad):\n",
        "        self.nombre = nombre\n",
        "        self.edad = edad\n",
        "    \npersona1 = Persona(\"Alice\", 30)\n",
        "persona2 = Persona(\"Bob\", 25)\n",
        "print(persona1.especie, persona2.especie)\n"
      ]
    },
    {
      "cell_type": "markdown",
      "metadata": {},
      "source": [
        "## Decoradores de Métodos\n",
        "\n",
        "Los decoradores de métodos se utilizan para modificar el comportamiento de los métodos. Los decoradores comunes son `@classmethod` y `@staticmethod`.\n"
      ]
    },
    {
      "cell_type": "code",
      "metadata": {},
      "outputs": [],
      "source": [
        "# Ejemplo de decoradores de métodos\n",
        "class Persona:\n",
        "    @classmethod\n",
        "    def metodo_de_clase(cls):\n",
        "        pass\n",
        "    \n",
        "    @staticmethod\n",
        "    def metodo_estatico():\n",
        "        pass\n"
      ]
    },
    {
      "cell_type": "markdown",
      "metadata": {},
      "source": ["## Ejercicios\n"]
    },
    {
      "cell_type": "markdown",
      "metadata": {},
      "source": [
        "### Ejercicio 1: Atributos y Métodos de Clase\n",
        "\n",
        "Define una clase `Coche` con un atributo de clase `numero_coches` que cuente el número de instancias creadas. Agrega métodos de instancia para mostrar información del coche y un método de clase para mostrar el número total de coches.\n"
      ]
    },
    {
      "cell_type": "code",
      "metadata": {},
      "outputs": [],
      "source": ["# Inserta tu código aquí\n"]
    },
    {
      "cell_type": "markdown",
      "metadata": {},
      "source": [
        "### Ejercicio 2: Métodos Estáticos\n",
        "\n",
        "Define una clase `CuentaBancaria` con métodos estáticos para validar el número de cuenta y calcular los intereses. Agrega métodos de instancia para depositar y retirar dinero.\n"
      ]
    },
    {
      "cell_type": "code",
      "metadata": {},
      "outputs": [],
      "source": ["# Inserta tu código aquí\n"]
    },
    {
      "cell_type": "markdown",
      "metadata": {},
      "source": [
        "### Ejercicio 3: Atributos de Clase\n",
        "\n",
        "Crea una clase `Empleado` con atributos de instancia `nombre` y `salario`, y un atributo de clase `empresa`. Agrega un método de instancia para mostrar la información del empleado y un método de clase para cambiar el nombre de la empresa.\n"
      ]
    },
    {
      "cell_type": "code",
      "metadata": {},
      "outputs": [],
      "source": ["# Inserta tu código aquí\n"]
    },
    {
      "cell_type": "markdown",
      "metadata": {},
      "source": [
        "### Ejercicio 4: Métodos Estáticos\n",
        "\n",
        "Define una clase `Matematicas` con métodos estáticos para realizar operaciones matemáticas básicas como sumar, restar, multiplicar y dividir.\n"
      ]
    },
    {
      "cell_type": "code",
      "metadata": {},
      "outputs": [],
      "source": ["# Inserta tu código aquí\n"]
    },
    {
      "cell_type": "markdown",
      "metadata": {},
      "source": [
        "## Soluciones\n",
        "\n",
        "### Solución al Ejercicio 1: Atributos y Métodos de Clase\n",
        "\n",
        "```python\n",
        "class Coche:\n",
        "    numero_coches = 0  # Atributo de clase\n",
        "    \n",
        "    def __init__(self, marca, modelo):\n",
        "        self.marca = marca\n",
        "        self.modelo = modelo\n",
        "        Coche.numero_coches += 1\n",
        "    \n",
        "    def mostrar_info(self):\n",
        "        return f\"Marca: {self.marca}, Modelo: {self.modelo}\"\n",
        "    \n",
        "    @classmethod\n",
        "    def contar_coches(cls):\n",
        "        return f\"Número total de coches: {cls.numero_coches}\"\n",
        "    \ncoche1 = Coche(\"Toyota\", \"Corolla\")\n",
        "coche2 = Coche(\"Honda\", \"Civic\")\n",
        "print(coche1.mostrar_info())  # Debería imprimir: Marca: Toyota, Modelo: Corolla\n",
        "print(Coche.contar_coches())  # Debería imprimir: Número total de coches: 2\n",
        "```\n",
        "\n",
        "### Solución al Ejercicio 2: Métodos Estáticos\n",
        "\n",
        "```python\n",
        "class CuentaBancaria:\n",
        "    def __init__(self, numero_cuenta, saldo):\n",
        "        self.numero_cuenta = numero_cuenta\n",
        "        self.saldo = saldo\n",
        "    \n",
        "    @staticmethod\n",
        "    def validar_numero_cuenta(numero_cuenta):\n",
        "        return len(str(numero_cuenta)) == 10\n",
        "    \n",
        "    @staticmethod\n",
        "    def calcular_interes(saldo, tasa_interes):\n",
        "        return saldo * tasa_interes / 100\n",
        "    \n",
        "    def depositar(self, cantidad):\n",
        "        self.saldo += cantidad\n",
        "        return self.saldo\n",
        "    \n",
        "    def retirar(self, cantidad):\n",
        "        if cantidad <= self.saldo:\n",
        "            self.saldo -= cantidad\n",
        "            return self.saldo\n",
        "        else:\n",
        "            return \"Saldo insuficiente\"\n",
        "    \n",
        "cuenta1 = CuentaBancaria(1234567890, 1000)\n",
        "print(CuentaBancaria.validar_numero_cuenta(cuenta1.numero_cuenta))  # Debería imprimir: True\n",
        "print(CuentaBancaria.calcular_interes(cuenta1.saldo, 5))  # Debería imprimir: 50.0\n",
        "print(cuenta1.depositar(500))  # Debería imprimir: 1500\n",
        "print(cuenta1.retirar(200))  # Debería imprimir: 1300\n",
        "print(cuenta1.retirar(2000))  # Debería imprimir: Saldo insuficiente\n",
        "```\n",
        "\n",
        "### Solución al Ejercicio 3: Atributos de Clase\n",
        "\n",
        "```python\n",
        "class Empleado:\n",
        "    empresa = \"TechCorp\"  # Atributo de clase\n",
        "    \n",
        "    def __init__(self, nombre, salario):\n",
        "        self.nombre = nombre\n",
        "        self.salario = salario\n",
        "    \n",
        "    def mostrar_info(self):\n",
        "        return f\"Nombre: {self.nombre}, Salario: {self.salario}, Empresa: {Empleado.empresa}\"\n",
        "    \n",
        "    @classmethod\n",
        "    def cambiar_empresa(cls, nueva_empresa):\n",
        "        cls.empresa = nueva_empresa\n",
        "    \n",
        "empleado1 = Empleado(\"Alice\", 50000)\n",
        "empleado2 = Empleado(\"Bob\", 60000)\n",
        "print(empleado1.mostrar_info())  # Debería imprimir: Nombre: Alice, Salario: 50000, Empresa: TechCorp\n",
        "Empleado.cambiar_empresa(\"NewTech\")\n",
        "print(empleado2.mostrar_info())  # Debería imprimir: Nombre: Bob, Salario: 60000, Empresa: NewTech\n",
        "```\n",
        "\n",
        "### Solución al Ejercicio 4: Métodos Estáticos\n",
        "\n",
        "```python\n",
        "class Matematicas:\n",
        "    @staticmethod\n",
        "    def sumar(a, b):\n",
        "        return a + b\n",
        "    \n",
        "    @staticmethod\n",
        "    def restar(a, b):\n",
        "        return a - b\n",
        "    \n",
        "    @staticmethod\n",
        "    def multiplicar(a, b):\n",
        "        return a * b\n",
        "    \n",
        "    @staticmethod\n",
        "    def dividir(a, b):\n",
        "        if b != 0:\n",
        "            return a / b\n",
        "        else:\n",
        "            return \"División por cero no permitida\"\n",
        "    \n",
        "print(Matematicas.sumar(3, 5))  # Debería imprimir: 8\n",
        "print(Matematicas.restar(10, 4))  # Debería imprimir: 6\n",
        "print(Matematicas.multiplicar(2, 7))  # Debería imprimir: 14\n",
        "print(Matematicas.dividir(20, 4))  # Debería imprimir: 5.0\n",
        "print(Matematicas.dividir(20, 0))  # Debería imprimir: División por cero no permitida\n",
        "```\n",
        "\n",
        "¡Buen trabajo completando estos ejercicios sobre métodos y atributos en Python!"
      ]
    }
  ],
  "metadata": {
    "kernelspec": {
      "display_name": "Python 3",
      "language": "python",
      "name": "python3"
    },
    "language_info": {
      "codemirror_mode": {
        "name": "ipython",
        "version": 3
      },
      "file_extension": ".py",
      "mimetype": "text/x-python",
      "name": "python",
      "nbconvert_exporter": "python",
      "pygments_lexer": "ipython3",
      "version": "3.8.5"
    }
  },
  "nbformat": 4,
  "nbformat_minor": 4
}