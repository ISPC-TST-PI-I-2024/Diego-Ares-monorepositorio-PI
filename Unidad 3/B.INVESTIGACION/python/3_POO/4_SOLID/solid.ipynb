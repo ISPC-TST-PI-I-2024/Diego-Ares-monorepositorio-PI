{
  "cells": [
    {
      "cell_type": "markdown",
      "metadata": {},
      "source": [
        "# Principios SOLID\n",
        "\n",
        "En este notebook, aprenderás cómo aplicar los principios SOLID en programación orientada a objetos.\n"
      ]
    },
    {
      "cell_type": "markdown",
      "metadata": {},
      "source": [
        "## Introducción a los Principios SOLID\n",
        "\n",
        "Los principios SOLID son un conjunto de cinco principios de diseño destinados a hacer que el software sea más comprensible, flexible y mantenible.\n"
      ]
    },
    {
      "cell_type": "markdown",
      "metadata": {},
      "source": [
        "## Principio de Responsabilidad Única (SRP)\n",
        "\n",
        "Cada clase debe tener una única responsabilidad y, por lo tanto, una única razón para cambiar.\n"
      ]
    },
    {
      "cell_type": "code",
      "metadata": {},
      "outputs": [],
      "source": [
        "# Ejemplo de SRP\n",
        "class Reporte:\n",
        "    def generar_reporte(self):\n",
        "        pass\n",
        "\n",
        "class ReportePDF(Reporte):\n",
        "    def exportar_pdf(self):\n",
        "        pass\n"
      ]
    },
    {
      "cell_type": "markdown",
      "metadata": {},
      "source": [
        "## Principio de Abierto/Cerrado (OCP)\n",
        "\n",
        "Las entidades de software deben estar abiertas para su extensión, pero cerradas para su modificación.\n"
      ]
    },
    {
      "cell_type": "code",
      "metadata": {},
      "outputs": [],
      "source": [
        "# Ejemplo de OCP\n",
        "class Forma:\n",
        "    def area(self):\n",
        "        pass\n",
        "\n",
        "class Rectangulo(Forma):\n",
        "    def __init__(self, ancho, alto):\n",
        "        self.ancho = ancho\n",
        "        self.alto = alto\n",
        "    \n",
        "    def area(self):\n",
        "        return self.ancho * self.alto\n",
        "\n",
        "class Circulo(Forma):\n",
        "    def __init__(self, radio):\n",
        "        self.radio = radio\n",
        "    \n",
        "    def area(self):\n",
        "        return 3.14 * self.radio * self.radio\n",
        "\n",
        "formas = [Rectangulo(2, 3), Circulo(5)]\n",
        "for forma in formas:\n",
        "    print(forma.area())\n"
      ]
    },
    {
      "cell_type": "markdown",
      "metadata": {},
      "source": [
        "## Principio de Sustitución de Liskov (LSP)\n",
        "\n",
        "Los objetos de una clase derivada deben ser reemplazables por objetos de la clase base sin alterar el correcto funcionamiento del programa.\n"
      ]
    },
    {
      "cell_type": "code",
      "metadata": {},
      "outputs": [],
      "source": [
        "# Ejemplo de LSP\n",
        "class Ave:\n",
        "    def volar(self):\n",
        "        pass\n",
        "\n",
        "class Pato(Ave):\n",
        "    def volar(self):\n",
        "        return \"Pato volando\"\n",
        "\n",
        "class Avestruz(Ave):\n",
        "    def volar(self):\n",
        "        raise Exception(\"Avestruz no puede volar\")\n",
        "\n",
        "def hacer_volar(ave):\n",
        "    return ave.volar()\n",
        "\n",
        "pato = Pato()\n",
        "avestruz = Avestruz()\n",
        "print(hacer_volar(pato))  # Debería imprimir: Pato volando\n",
        "print(hacer_volar(avestruz))  # Debería lanzar una excepción\n"
      ]
    },
    {
      "cell_type": "markdown",
      "metadata": {},
      "source": [
        "## Principio de Segregación de Interfaces (ISP)\n",
        "\n",
        "Una clase no debe ser forzada a implementar interfaces que no utiliza. Es mejor tener muchas interfaces específicas en lugar de una única interfaz general.\n"
      ]
    },
    {
      "cell_type": "code",
      "metadata": {},
      "outputs": [],
      "source": [
        "# Ejemplo de ISP\n",
        "class Imprimible:\n",
        "    def imprimir(self):\n",
        "        pass\n",
        "\n",
        "class Escaneable:\n",
        "    def escanear(self):\n",
        "        pass\n",
        "\n",
        "class Impresora(Imprimible):\n",
        "    def imprimir(self):\n",
        "        return \"Imprimiendo...\"\n",
        "\n",
        "class Escaner(Escaneable):\n",
        "    def escanear(self):\n",
        "        return \"Escaneando...\"\n"
      ]
    },
    {
      "cell_type": "markdown",
      "metadata": {},
      "source": [
        "## Principio de Inversión de Dependencias (DIP)\n",
        "\n",
        "Los módulos de alto nivel no deben depender de los módulos de bajo nivel. Ambos deben depender de abstracciones.\n"
      ]
    },
    {
      "cell_type": "code",
      "metadata": {},
      "outputs": [],
      "source": [
        "# Ejemplo de DIP\n",
        "class Motor:\n",
        "    def encender(self):\n",
        "        pass\n",
        "\n",
        "class MotorElectrico(Motor):\n",
        "    def encender(self):\n",
        "        return \"Motor eléctrico encendido\"\n",
        "\n",
        "class Coche:\n",
        "    def __init__(self, motor: Motor):\n",
        "        self.motor = motor\n",
        "    \n",
        "    def encender(self):\n",
        "        return self.motor.encender()\n",
        "\n",
        "motor_electrico = MotorElectrico()\n",
        "coche = Coche(motor_electrico)\n",
        "print(coche.encender())  # Debería imprimir: Motor eléctrico encendido\n"
      ]
    },
    {
      "cell_type": "markdown",
      "metadata": {},
      "source": ["## Ejercicios\n"]
    },
    {
      "cell_type": "markdown",
      "metadata": {},
      "source": [
        "### Ejercicio 1: Principio de Responsabilidad Única (SRP)\n",
        "\n",
        "Aplica el Principio de Responsabilidad Única (SRP) para refactorizar una clase `Empleado` que actualmente maneja tanto los detalles del empleado como la generación de su informe.\n"
      ]
    },
    {
      "cell_type": "code",
      "metadata": {},
      "outputs": [],
      "source": ["# Inserta tu código aquí\n"]
    },
    {
      "cell_type": "markdown",
      "metadata": {},
      "source": [
        "### Ejercicio 2: Principio de Abierto/Cerrado (OCP)\n",
        "\n",
        "Aplica el Principio de Abierto/Cerrado (OCP) para agregar una nueva forma `Triangulo` sin modificar la clase `Forma` base.\n"
      ]
    },
    {
      "cell_type": "code",
      "metadata": {},
      "outputs": [],
      "source": ["# Inserta tu código aquí\n"]
    },
    {
      "cell_type": "markdown",
      "metadata": {},
      "source": [
        "### Ejercicio 3: Principio de Sustitución de Liskov (LSP)\n",
        "\n",
        "Aplica el Principio de Sustitución de Liskov (LSP) asegurándote de que todas las subclases de `Vehiculo` puedan sustituir a `Vehiculo` sin errores.\n"
      ]
    },
    {
      "cell_type": "code",
      "metadata": {},
      "outputs": [],
      "source": ["# Inserta tu código aquí\n"]
    },
    {
      "cell_type": "markdown",
      "metadata": {},
      "source": [
        "### Ejercicio 4: Principio de Segregación de Interfaces (ISP)\n",
        "\n",
        "Aplica el Principio de Segregación de Interfaces (ISP) para refactorizar una clase `TodoEnUno` que actualmente implementa tanto la impresión como el escaneo.\n"
      ]
    },
    {
      "cell_type": "code",
      "metadata": {},
      "outputs": [],
      "source": ["# Inserta tu código aquí\n"]
    },
    {
      "cell_type": "markdown",
      "metadata": {},
      "source": [
        "### Ejercicio 5: Principio de Inversión de Dependencias (DIP)\n",
        "\n",
        "Aplica el Principio de Inversión de Dependencias (DIP) para refactorizar una clase `Usuario` que depende directamente de una clase `ServicioEmail`.\n"
      ]
    },
    {
      "cell_type": "code",
      "metadata": {},
      "outputs": [],
      "source": ["# Inserta tu código aquí\n"]
    },
    {
      "cell_type": "markdown",
      "metadata": {},
      "source": [
        "## Soluciones\n",
        "\n",
        "### Solución al Ejercicio 1: Principio de Responsabilidad Única (SRP)\n",
        "\n",
        "```python\n",
        "class Empleado:\n",
        "    def __init__(self, nombre, puesto):\n",
        "        self.nombre = nombre\n",
        "        self.puesto = puesto\n",
        "\n",
        "class GeneradorInformes:\n",
        "    def generar_informe(self, empleado):\n",
        "        return f\"Informe de {empleado.nombre}, {empleado.puesto}\"\n",
        "\n",
        "empleado = Empleado(\"Alice\", \"Desarrollador\")\n",
        "generador_informes = GeneradorInformes()\n",
        "print(generador_informes.generar_informe(empleado))  # Debería imprimir: Informe de Alice, Desarrollador\n",
        "```\n",
        "\n",
        "### Solución al Ejercicio 2: Principio de Abierto/Cerrado (OCP)\n",
        "\n",
        "```python\n",
        "class Forma:\n",
        "    def area(self):\n",
        "        pass\n",
        "\n",
        "class Rectangulo(Forma):\n",
        "    def __init__(self, ancho, alto):\n",
        "        self.ancho = ancho\n",
        "        self.alto = alto\n",
        "    \n",
        "    def area(self):\n",
        "        return self.ancho * self.alto\n",
        "\n",
        "class Circulo(Forma):\n",
        "    def __init__(self, radio):\n",
        "        self.radio = radio\n",
        "    \n",
        "    def area(self):\n",
        "        return 3.14 * self.radio * self.radio\n",
        "\n",
        "class Triangulo(Forma):\n",
        "    def __init__(self, base, altura):\n",
        "        self.base = base\n",
        "        self.altura = altura\n",
        "    \n",
        "    def area(self):\n",
        "        return 0.5 * self.base * self.altura\n",
        "\n",
        "formas = [Rectangulo(2, 3), Circulo(5), Triangulo(4, 6)]\n",
        "for forma in formas:\n",
        "    print(forma.area())  # Debería imprimir: 6, 78.5, 12\n",
        "```\n",
        "\n",
        "### Solución al Ejercicio 3: Principio de Sustitución de Liskov (LSP)\n",
        "\n",
        "```python\n",
        "class Vehiculo:\n",
        "    def moverse(self):\n",
        "        pass\n",
        "\n",
        "class Coche(Vehiculo):\n",
        "    def moverse(self):\n",
        "        return \"El coche está conduciendo\"\n",
        "\n",
        "class Bicicleta(Vehiculo):\n",
        "    def moverse(self):\n",
        "        return \"La bicicleta está pedaleando\"\n",
        "\n",
        "vehiculos = [Coche(), Bicicleta()]\n",
        "\n",
        "for vehiculo in vehiculos:\n",
        "    print(vehiculo.moverse())\n",
        "```\n",
        "\n",
        "### Solución al Ejercicio 4: Principio de Segregación de Interfaces (ISP)\n",
        "\n",
        "```python\n",
        "class Imprimible:\n",
        "    def imprimir(self):\n",
        "        pass\n",
        "\n",
        "class Escaneable:\n",
        "    def escanear(self):\n",
        "        pass\n",
        "\n",
        "class TodoEnUno(Imprimible, Escaneable):\n",
        "    def imprimir(self):\n",
        "        return \"Imprimiendo...\"\n",
        "    \n",
        "    def escanear(self):\n",
        "        return \"Escaneando...\"\n",
        "\n",
        "todo_en_uno = TodoEnUno()\n",
        "print(todo_en_uno.imprimir())  # Debería imprimir: Imprimiendo...\n",
        "print(todo_en_uno.escanear())  # Debería imprimir: Escaneando...\n",
        "```\n",
        "\n",
        "### Solución al Ejercicio 5: Principio de Inversión de Dependencias (DIP)\n",
        "\n",
        "```python\n",
        "class ServicioEmail:\n",
        "    def enviar_email(self, mensaje):\n",
        "        pass\n",
        "\n",
        "class Usuario:\n",
        "    def __init__(self, servicio_email: ServicioEmail):\n",
        "        self.servicio_email = servicio_email\n",
        "    \n",
        "    def notificar(self, mensaje):\n",
        "        self.servicio_email.enviar_email(mensaje)\n",
        "\n",
        "class ServicioEmailSMTP(ServicioEmail):\n",
        "    def enviar_email(self, mensaje):\n",
        "        return f\"Enviando mensaje: {mensaje}\"\n",
        "\n",
        "servicio_email_smtp = ServicioEmailSMTP()\n",
        "usuario = Usuario(servicio_email_smtp)\n",
        "print(usuario.notificar(\"Hola!\"))  # Debería imprimir: Enviando mensaje: Hola!\n",
        "```\n",
        "\n",
        "¡Buen trabajo completando estos ejercicios sobre los principios SOLID en Python!"
      ]
    }
  ],
  "metadata": {
    "kernelspec": {
      "display_name": "Python 3",
      "language": "python",
      "name": "python3"
    },
    "language_info": {
      "codemirror_mode": {
        "name": "ipython",
        "version": 3
      },
      "file_extension": ".py",
      "mimetype": "text/x-python",
      "name": "python",
      "nbconvert_exporter": "python",
      "pygments_lexer": "ipython3",
      "version": "3.8.5"
    }
  },
  "nbformat": 4,
  "nbformat_minor": 4
}