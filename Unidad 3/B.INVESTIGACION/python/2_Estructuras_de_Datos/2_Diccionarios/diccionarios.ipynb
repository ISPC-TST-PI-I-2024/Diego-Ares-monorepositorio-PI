{
  "cells": [
    {
      "cell_type": "markdown",
      "metadata": {},
      "source": [
        "# Diccionarios\n",
        "\n",
        "En este notebook, aprenderás cómo utilizar diccionarios en Python.\n"
      ]
    },
    {
      "cell_type": "markdown",
      "metadata": {},
      "source": [
        "## Diccionarios\n",
        "\n",
        "Los diccionarios son colecciones desordenadas de pares clave-valor.\n"
      ]
    },
    {
      "cell_type": "code",
      "execution_count": null,
      "metadata": {},
      "outputs": [],
      "source": [
        "# Ejemplo de diccionario\n",
        "mi_diccionario = {'a': 1, 'b': 2, 'c': 3}\n",
        "print(mi_diccionario)\n"
      ]
    },
    {
      "cell_type": "markdown",
      "metadata": {},
      "source": [
        "## Operaciones con Diccionarios\n",
        "\n",
        "Puedes realizar varias operaciones con diccionarios, como agregar, eliminar y modificar elementos.\n"
      ]
    },
    {
      "cell_type": "code",
      "execution_count": null,
      "metadata": {},
      "outputs": [],
      "source": [
        "# Operaciones con diccionarios\n",
        "mi_diccionario['d'] = 4  # Agregar\n",
        "del mi_diccionario['b']  # Eliminar\n",
        "mi_diccionario['a'] = 10  # Modificar\n",
        "print(mi_diccionario)\n"
      ]
    },
    {
      "cell_type": "markdown",
      "metadata": {},
      "source": [
        "## Métodos de Diccionarios\n",
        "\n",
        "Los diccionarios tienen varios métodos útiles, como `keys()`, `values()`, `items()`, `get()`, `pop()`, `update()`, etc.\n"
      ]
    },
    {
      "cell_type": "code",
      "execution_count": null,
      "metadata": {},
      "outputs": [],
      "source": [
        "# Métodos de diccionarios\n",
        "llaves = mi_diccionario.keys()  # Obtener todas las claves\n",
        "valores = mi_diccionario.values()  # Obtener todos los valores\n",
        "items = mi_diccionario.items()  # Obtener todos los pares clave-valor\n",
        "valor = mi_diccionario.get('a')  # Obtener el valor de una clave\n",
        "mi_diccionario.pop('c')  # Eliminar un elemento y devolver su valor\n",
        "mi_diccionario.update({'e': 5})  # Actualizar el diccionario con otro diccionario\n",
        "print(llaves, valores, items, valor, mi_diccionario)\n"
      ]
    },
    {
      "cell_type": "markdown",
      "metadata": {},
      "source": [
        "## Iteración sobre Diccionarios\n",
        "\n",
        "Puedes iterar sobre las claves, valores y pares clave-valor de un diccionario.\n"
      ]
    },
    {
      "cell_type": "code",
      "execution_count": null,
      "metadata": {},
      "outputs": [],
      "source": [
        "# Iteración sobre diccionarios\n",
        "for clave in mi_diccionario:\n",
        "    print(clave, mi_diccionario[clave])  # Iterar sobre claves\n",
        "\n",
        "for valor in mi_diccionario.values():\n",
        "    print(valor)  # Iterar sobre valores\n",
        "\n",
        "for clave, valor in mi_diccionario.items():\n",
        "    print(clave, valor)  # Iterar sobre pares clave-valor\n"
      ]
    },
    {
      "cell_type": "markdown",
      "metadata": {},
      "source": [
        "## Ejercicios\n"
      ]
    },
    {
      "cell_type": "markdown",
      "metadata": {},
      "source": [
        "### Ejercicio 1: Operaciones con Diccionarios\n",
        "\n",
        "Crea un diccionario con los nombres de los meses como claves y la cantidad de días como valores. Luego, agrega una clave para un mes ficticio y elimina la clave correspondiente a febrero.\n"
      ]
    },
    {
      "cell_type": "code",
      "execution_count": null,
      "metadata": {},
      "outputs": [],
      "source": [
        "# Inserta tu código aquí\n"
      ]
    },
    {
      "cell_type": "markdown",
      "metadata": {},
      "source": [
        "### Ejercicio 2: Almacenando Información\n",
        "\n",
        "Escribe un programa que solicite al usuario ingresar un nombre y una edad, y luego almacene esta información en un diccionario. Repite el proceso para varios usuarios y finalmente imprime el diccionario completo.\n"
      ]
    },
    {
      "cell_type": "code",
      "execution_count": null,
      "metadata": {},
      "outputs": [],
      "source": [
        "# Inserta tu código aquí\n"
      ]
    },
    {
      "cell_type": "markdown",
      "metadata": {},
      "source": [
        "### Ejercicio 3: Actualización de Precios\n",
        "\n",
        "Crea un diccionario que contenga productos y sus precios. Luego, incrementa el precio de cada producto en un 10% y muestra el diccionario actualizado.\n"
      ]
    },
    {
      "cell_type": "code",
      "execution_count": null,
      "metadata": {},
      "outputs": [],
      "source": [
        "# Inserta tu código aquí\n"
      ]
    },
    {
      "cell_type": "markdown",
      "metadata": {},
      "source": [
        "## Soluciones\n",
        "\n",
        "### Solución al Ejercicio 1: Operaciones con Diccionarios\n",
        "\n",
        "```python\n",
        "meses = {\n",
        "    'Enero': 31,\n",
        "    'Febrero': 28,\n",
        "    'Marzo': 31,\n",
        "    'Abril': 30,\n",
        "    'Mayo': 31,\n",
        "    'Junio': 30,\n",
        "    'Julio': 31,\n",
        "    'Agosto': 31,\n",
        "    'Septiembre': 30,\n",
        "    'Octubre': 31,\n",
        "    'Noviembre': 30,\n",
        "    'Diciembre': 31\n",
        "}\n",
        "meses['MesFicticio'] = 30\n",
        "del meses['Febrero']\n",
        "print(meses)  # Debería imprimir el diccionario sin la clave 'Febrero' y con la clave 'MesFicticio'\n",
        "```\n",
        "\n",
        "### Solución al Ejercicio 2: Almacenando Información\n",
        "\n",
        "```python\n",
        "informacion = {}\n",
        "\n",
        "while True:\n",
        "    nombre = input(\"Ingresa un nombre (o 'salir' para terminar): \")\n",
        "    if nombre == 'salir':\n",
        "        break\n",
        "    edad = int(input(\"Ingresa la edad: \"))\n",
        "    informacion[nombre] = edad\n",
        "\n",
        "print(informacion)  # Debería imprimir el diccionario con los nombres y edades ingresados\n",
        "```\n",
        "\n",
        "### Solución al Ejercicio 3: Actualización de Precios\n",
        "\n",
        "```python\n",
        "productos = {\n",
        "    'Manzanas': 1.20,\n",
        "    'Naranjas': 0.80,\n",
        "    'Bananas': 1.00,\n",
        "    'Peras': 1.50\n",
        "}\n",
        "\n",
        "for producto in productos:\n",
        "    productos[producto] *= 1.10\n",
        "\n",
        "print(productos)  # Debería imprimir el diccionario con los precios actualizados\n",
        "```\n",
        "\n",
        "¡Buen trabajo completando estos ejercicios sobre diccionarios en Python!"
      ]
    }
  ],
  "metadata": {
    "kernelspec": {
      "display_name": "Python 3",
      "language": "python",
      "name": "python3"
    },
    "language_info": {
      "codemirror_mode": {
        "name": "ipython",
        "version": 3
      },
      "file_extension": ".py",
      "mimetype": "text/x-python",
      "name": "python",
      "nbconvert_exporter": "python",
      "pygments_lexer": "ipython3",
      "version": "3.8.5"
    }
  },
  "nbformat": 4,
  "nbformat_minor": 4
}
