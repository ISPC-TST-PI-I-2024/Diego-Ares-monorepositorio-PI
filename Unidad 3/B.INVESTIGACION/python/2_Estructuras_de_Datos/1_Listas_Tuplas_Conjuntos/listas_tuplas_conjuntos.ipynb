{
  "cells": [
    {
      "cell_type": "markdown",
      "metadata": {},
      "source": [
        "# Listas, Tuplas y Conjuntos\n",
        "\n",
        "En este notebook, aprenderás cómo utilizar listas, tuplas y conjuntos en Python.\n"
      ]
    },
    {
      "cell_type": "markdown",
      "metadata": {},
      "source": [
        "## Listas\n",
        "\n",
        "Las listas son colecciones ordenadas de elementos que son mutables.\n"
      ]
    },
    {
      "cell_type": "code",
      "metadata": {},
      "outputs": [],
      "source": [
        "# Ejemplo de lista\n",
        "mi_lista = [1, 2, 3, 4, 5]\n",
        "print(mi_lista)\n"
      ]
    },
    {
      "cell_type": "markdown",
      "metadata": {},
      "source": [
        "### Operaciones con Listas\n",
        "\n",
        "Las listas soportan varias operaciones, como agregar, eliminar y modificar elementos.\n"
      ]
    },
    {
      "cell_type": "code",
      "metadata": {},
      "outputs": [],
      "source": [
        "# Operaciones con listas\n",
        "mi_lista.append(6)  # Agregar\n",
        "mi_lista.remove(2)  # Eliminar\n",
        "mi_lista[0] = 10    # Modificar\n",
        "print(mi_lista)\n"
      ]
    },
    {
      "cell_type": "markdown",
      "metadata": {},
      "source": [
        "## Tuplas\n",
        "\n",
        "Las tuplas son colecciones ordenadas de elementos que son inmutables.\n"
      ]
    },
    {
      "cell_type": "code",
      "metadata": {},
      "outputs": [],
      "source": [
        "# Ejemplo de tupla\n",
        "mi_tupla = (1, 2, 3, 4, 5)\n",
        "print(mi_tupla)\n"
      ]
    },
    {
      "cell_type": "markdown",
      "metadata": {},
      "source": [
        "### Operaciones con Tuplas\n",
        "\n",
        "Aunque las tuplas son inmutables, puedes realizar algunas operaciones como acceder a elementos y desempaquetar.\n"
      ]
    },
    {
      "cell_type": "code",
      "metadata": {},
      "outputs": [],
      "source": [
        "# Operaciones con tuplas\n",
        "print(mi_tupla[0])  # Acceder a elementos\n",
        "a, b, c, d, e = mi_tupla  # Desempaquetar\n",
        "print(a, b, c, d, e)\n"
      ]
    },
    {
      "cell_type": "markdown",
      "metadata": {},
      "source": [
        "## Conjuntos\n",
        "\n",
        "Los conjuntos son colecciones desordenadas de elementos únicos.\n"
      ]
    },
    {
      "cell_type": "code",
      "metadata": {},
      "outputs": [],
      "source": [
        "# Ejemplo de conjunto\n",
        "mi_set = {1, 2, 3, 4, 5}\n",
        "print(mi_set)\n"
      ]
    },
    {
      "cell_type": "markdown",
      "metadata": {},
      "source": [
        "### Operaciones con Conjuntos\n",
        "\n",
        "Los conjuntos soportan varias operaciones, como agregar, eliminar y realizar operaciones de conjuntos (unión, intersección, diferencia).\n"
      ]
    },
    {
      "cell_type": "code",
      "metadata": {},
      "outputs": [],
      "source": [
        "# Operaciones con conjuntos\n",
        "mi_set.add(6)       # Agregar\n",
        "mi_set.remove(3)    # Eliminar\n",
        "otro_set = {4, 5, 6, 7}\n",
        "print(mi_set | otro_set)  # Unión\n",
        "print(mi_set & otro_set)  # Intersección\n",
        "print(mi_set - otro_set)  # Diferencia\n"
      ]
    },
    {
      "cell_type": "markdown",
      "metadata": {},
      "source": ["## Ejercicios\n"]
    },
    {
      "cell_type": "markdown",
      "metadata": {},
      "source": [
        "### Ejercicio 1: Operaciones con Listas\n",
        "\n",
        "Crea una lista con los números del 1 al 10, luego agrega el número 11 y elimina el número 5. Imprime la lista resultante.\n"
      ]
    },
    {
      "cell_type": "code",
      "metadata": {},
      "outputs": [],
      "source": ["# Inserta tu código aquí\n"]
    },
    {
      "cell_type": "markdown",
      "metadata": {},
      "source": [
        "### Ejercicio 2: Operaciones con Tuplas\n",
        "\n",
        "Crea una tupla con los días de la semana y desempaquétala en variables individuales. Imprime cada día por separado.\n"
      ]
    },
    {
      "cell_type": "code",
      "metadata": {},
      "outputs": [],
      "source": ["# Inserta tu código aquí\n"]
    },
    {
      "cell_type": "markdown",
      "metadata": {},
      "source": [
        "### Ejercicio 3: Operaciones con Conjuntos\n",
        "\n",
        "Crea un conjunto con los números del 1 al 5 y otro conjunto con los números del 4 al 8. Realiza las operaciones de unión, intersección y diferencia entre ambos conjuntos. Imprime los resultados.\n"
      ]
    },
    {
      "cell_type": "code",
      "metadata": {},
      "outputs": [],
      "source": ["# Inserta tu código aquí\n"]
    },
    {
      "cell_type": "markdown",
      "metadata": {},
      "source": [
        "## Soluciones\n",
        "\n",
        "### Solución al Ejercicio 1: Operaciones con Listas\n",
        "\n",
        "```python\n",
        "mi_lista = [1, 2, 3, 4, 5, 6, 7, 8, 9, 10]\n",
        "mi_lista.append(11)\n",
        "mi_lista.remove(5)\n",
        "print(mi_lista)  # Debería imprimir [1, 2, 3, 4, 6, 7, 8, 9, 10, 11]\n",
        "```\n",
        "\n",
        "### Solución al Ejercicio 2: Operaciones con Tuplas\n",
        "\n",
        "```python\n",
        "dias_semana = (\"Lunes\", \"Martes\", \"Miércoles\", \"Jueves\", \"Viernes\", \"Sábado\", \"Domingo\")\n",
        "lunes, martes, miercoles, jueves, viernes, sabado, domingo = dias_semana\n",
        "print(lunes)\n",
        "print(martes)\n",
        "print(miercoles)\n",
        "print(jueves)\n",
        "print(viernes)\n",
        "print(sabado)\n",
        "print(domingo)\n",
        "```\n",
        "\n",
        "### Solución al Ejercicio 3: Operaciones con Conjuntos\n",
        "\n",
        "```python\n",
        "set1 = {1, 2, 3, 4, 5}\n",
        "set2 = {4, 5, 6, 7, 8}\n",
        "union = set1 | set2\n",
        "interseccion = set1 & set2\n",
        "diferencia = set1 - set2\n",
        "print(union)  # Debería imprimir {1, 2, 3, 4, 5, 6, 7, 8}\n",
        "print(interseccion)  # Debería imprimir {4, 5}\n",
        "print(diferencia)  # Debería imprimir {1, 2, 3}\n",
        "```\n",
        "\n",
        "¡Buen trabajo completando estos ejercicios sobre listas, tuplas y conjuntos en Python!"
      ]
    }
  ],
  "metadata": {
    "kernelspec": {
      "display_name": "Python 3",
      "language": "python",
      "name": "python3"
    },
    "language_info": {
      "codemirror_mode": {
        "name": "ipython",
        "version": 3
      },
      "file_extension": ".py",
      "mimetype": "text/x-python",
      "name": "python",
      "nbconvert_exporter": "python",
      "pygments_lexer": "ipython3",
      "version": "3.8.5"
    }
  },
  "nbformat": 4,
  "nbformat_minor": 4
}