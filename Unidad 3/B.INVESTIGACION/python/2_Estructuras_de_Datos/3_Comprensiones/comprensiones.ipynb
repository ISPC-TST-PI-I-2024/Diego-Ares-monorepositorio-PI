{
  "cells": [
    {
      "cell_type": "markdown",
      "metadata": {},
      "source": [
        "# Comprensiones\n",
        "\n",
        "En este notebook, aprenderás cómo utilizar las comprensiones en Python.\n"
      ]
    },
    {
      "cell_type": "markdown",
      "metadata": {},
      "source": [
        "## Comprensiones de Listas\n",
        "\n",
        "Las comprensiones de listas proporcionan una forma concisa de crear listas.\n"
      ]
    },
    {
      "cell_type": "code",
      "metadata": {},
      "outputs": [],
      "source": [
        "# Ejemplo de comprensión de listas\n",
        "mi_lista = [x for x in range(10)]\n",
        "print(mi_lista)\n"
      ]
    },
    {
      "cell_type": "markdown",
      "metadata": {},
      "source": [
        "## Comprensiones de Diccionarios\n",
        "\n",
        "Las comprensiones de diccionarios permiten crear diccionarios de manera concisa.\n"
      ]
    },
    {
      "cell_type": "code",
      "metadata": {},
      "outputs": [],
      "source": [
        "# Ejemplo de comprensión de diccionarios\n",
        "mi_diccionario = {x: x**2 for x in range(10)}\n",
        "print(mi_diccionario)\n"
      ]
    },
    {
      "cell_type": "markdown",
      "metadata": {},
      "source": [
        "## Comprensiones de Conjuntos\n",
        "\n",
        "Las comprensiones de conjuntos proporcionan una forma concisa de crear conjuntos.\n"
      ]
    },
    {
      "cell_type": "code",
      "metadata": {},
      "outputs": [],
      "source": [
        "# Ejemplo de comprensión de conjuntos\n",
        "mi_set = {x for x in range(10)}\n",
        "print(mi_set)\n"
      ]
    },
    {
      "cell_type": "markdown",
      "metadata": {},
      "source": [
        "## Comprensiones Anidadas\n",
        "\n",
        "Las comprensiones anidadas permiten crear estructuras de datos más complejas.\n"
      ]
    },
    {
      "cell_type": "code",
      "metadata": {},
      "outputs": [],
      "source": [
        "# Ejemplo de comprensión anidada\n",
        "matriz = [[x for x in range(3)] for y in range(3)]\n",
        "print(matriz)\n"
      ]
    },
    {
      "cell_type": "markdown",
      "metadata": {},
      "source": ["## Ejercicios\n"]
    },
    {
      "cell_type": "markdown",
      "metadata": {},
      "source": [
        "### Ejercicio 1: Comprensión de Listas\n",
        "\n",
        "Crea una lista de los cuadrados de los números del 1 al 10 usando una comprensión de listas.\n"
      ]
    },
    {
      "cell_type": "code",
      "metadata": {},
      "outputs": [],
      "source": ["# Inserta tu código aquí\n"]
    },
    {
      "cell_type": "markdown",
      "metadata": {},
      "source": [
        "### Ejercicio 2: Comprensión de Diccionarios\n",
        "\n",
        "Crea un diccionario que contenga los números del 1 al 5 como claves y sus respectivos cubos como valores usando una comprensión de diccionarios.\n"
      ]
    },
    {
      "cell_type": "code",
      "metadata": {},
      "outputs": [],
      "source": ["# Inserta tu código aquí\n"]
    },
    {
      "cell_type": "markdown",
      "metadata": {},
      "source": [
        "### Ejercicio 3: Comprensión de Conjuntos\n",
        "\n",
        "Crea un conjunto que contenga los números pares del 1 al 20 usando una comprensión de conjuntos.\n"
      ]
    },
    {
      "cell_type": "code",
      "metadata": {},
      "outputs": [],
      "source": ["# Inserta tu código aquí\n"]
    },
    {
      "cell_type": "markdown",
      "metadata": {},
      "source": [
        "### Ejercicio 4: Comprensión Anidada\n",
        "\n",
        "Crea una matriz de 3x3 que contenga el número de fila en cada posición usando una comprensión anidada.\n"
      ]
    },
    {
      "cell_type": "code",
      "metadata": {},
      "outputs": [],
      "source": ["# Inserta tu código aquí\n"]
    },
    {
      "cell_type": "markdown",
      "metadata": {},
      "source": [
        "## Soluciones\n",
        "\n",
        "### Solución al Ejercicio 1: Comprensión de Listas\n",
        "\n",
        "```python\n",
        "cuadrados = [x**2 for x in range(1, 11)]\n",
        "print(cuadrados)  # Debería imprimir [1, 4, 9, 16, 25, 36, 49, 64, 81, 100]\n",
        "```\n",
        "\n",
        "### Solución al Ejercicio 2: Comprensión de Diccionarios\n",
        "\n",
        "```python\n",
        "cubos = {x: x**3 for x in range(1, 6)}\n",
        "print(cubos)  # Debería imprimir {1: 1, 2: 8, 3: 27, 4: 64, 5: 125}\n",
        "```\n",
        "\n",
        "### Solución al Ejercicio 3: Comprensión de Conjuntos\n",
        "\n",
        "```python\n",
        "pares = {x for x in range(1, 21) if x % 2 == 0}\n",
        "print(pares)  # Debería imprimir {2, 4, 6, 8, 10, 12, 14, 16, 18, 20}\n",
        "```\n",
        "\n",
        "### Solución al Ejercicio 4: Comprensión Anidada\n",
        "\n",
        "```python\n",
        "matriz = [[y for x in range(3)] for y in range(3)]\n",
        "print(matriz)  # Debería imprimir [[0, 0, 0], [1, 1, 1], [2, 2, 2]]\n",
        "```\n",
        "\n",
        "¡Buen trabajo completando estos ejercicios sobre comprensiones en Python!"
      ]
    }
  ],
  "metadata": {
    "kernelspec": {
      "display_name": "Python 3",
      "language": "python",
      "name": "python3"
    },
    "language_info": {
      "codemirror_mode": {
        "name": "ipython",
        "version": 3
      },
      "file_extension": ".py",
      "mimetype": "text/x-python",
      "name": "python",
      "nbconvert_exporter": "python",
      "pygments_lexer": "ipython3",
      "version": "3.8.5"
    }
  },
  "nbformat": 4,
  "nbformat_minor": 4
}
